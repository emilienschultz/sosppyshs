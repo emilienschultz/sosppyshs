{
 "cells": [
  {
   "cell_type": "markdown",
   "id": "45d78235",
   "metadata": {
    "slideshow": {
     "slide_type": "skip"
    }
   },
   "source": [
    "Produire des slides ``` jupyter nbconvert Réanalyse\\ SOSP.ipynb --to slides --post serve```"
   ]
  },
  {
   "cell_type": "markdown",
   "id": "63f18f38",
   "metadata": {
    "slideshow": {
     "slide_type": "slide"
    }
   },
   "source": [
    "# Enquête sur la science ouverte\n",
    "\n",
    "**Reproductibilité de l'enquête SOSP - State of Open Science Practices in France**\n",
    "\n",
    "Mariannig Le Béchec - Aline Bouchard - Philippe Charrier - Claire Denecker - Gabriel Gallezot - Stéphanie Rennes\n",
    "\n",
    "\n",
    "Présentation : https://www.ouvrirlascience.fr/state-of-open-science-practices-in-france-sosp-fr/\n",
    "\n",
    "DOI : https://dx.doi.org/10.52949/5\n",
    "\n",
    "- Rapport : https://hal.archives-ouvertes.fr/hal-03545512v1\n",
    "- Données : https://zenodo.org/record/5827206\n"
   ]
  },
  {
   "cell_type": "markdown",
   "id": "d3c49b87",
   "metadata": {
    "slideshow": {
     "slide_type": "slide"
    }
   },
   "source": [
    "## Objectifs \n",
    "\n",
    "1. Rendre les données \"vivantes\"\n",
    "2. Refaire des traitements statistiques\n",
    "3. Produire de nouveaux traitements/visualisations (par exemple : qui utilise R & Python)\n",
    "4. Justifier l'usage de Python pour faire tout ça !"
   ]
  },
  {
   "cell_type": "markdown",
   "id": "a82d02ba",
   "metadata": {},
   "source": [
    "### Point de départ \n",
    "\n",
    "Les données sont disponibles sur un dépôt et téléchargeable. Je dois ensuite me débrouiller."
   ]
  },
  {
   "cell_type": "markdown",
   "id": "c03cff98",
   "metadata": {
    "slideshow": {
     "slide_type": "slide"
    }
   },
   "source": [
    "## 1. Rendre les données \"vivantes\"\n",
    "\n",
    "- Téléchargement des données\n",
    "- Création d'un nouveau répertoire dédié\n",
    "- Création d'un nouveau Notebook Jupyter -> on pourra en discuter"
   ]
  },
  {
   "cell_type": "markdown",
   "id": "6ccbe112",
   "metadata": {},
   "source": [
    "## 1.1 Charger les données\n",
    "\n",
    "Utilisation de la bibliothèque Pandas"
   ]
  },
  {
   "cell_type": "code",
   "execution_count": 1,
   "id": "da394c8c",
   "metadata": {},
   "outputs": [
    {
     "data": {
      "text/html": [
       "<div>\n",
       "<style scoped>\n",
       "    .dataframe tbody tr th:only-of-type {\n",
       "        vertical-align: middle;\n",
       "    }\n",
       "\n",
       "    .dataframe tbody tr th {\n",
       "        vertical-align: top;\n",
       "    }\n",
       "\n",
       "    .dataframe thead th {\n",
       "        text-align: right;\n",
       "    }\n",
       "</style>\n",
       "<table border=\"1\" class=\"dataframe\">\n",
       "  <thead>\n",
       "    <tr style=\"text-align: right;\">\n",
       "      <th></th>\n",
       "      <th>Id</th>\n",
       "      <th>contexte_travail</th>\n",
       "      <th>fonction_recherche</th>\n",
       "      <th>statut_professionnel</th>\n",
       "      <th>statut_professionnel_Autre</th>\n",
       "      <th>annee_premiere_publi</th>\n",
       "      <th>Systeme_exploitation</th>\n",
       "      <th>Usage_telephone_mobile</th>\n",
       "      <th>Outils_gestion_travail_av_confinement_visioconférence</th>\n",
       "      <th>Outils_gestion_travail_av_confinement_planification_RDV</th>\n",
       "      <th>...</th>\n",
       "      <th>Souhait_partage_donnees_produites_discipline</th>\n",
       "      <th>Souhait_partage_donnees_produites_pays_continent</th>\n",
       "      <th>Souhait_partage_donnees_produites_domaine_economique</th>\n",
       "      <th>Souhait_partage_donnees_produites_secteur_associatif</th>\n",
       "      <th>Souhait_partage_donnees_produites_sans_restriction</th>\n",
       "      <th>compatibilite_diffusion_partage</th>\n",
       "      <th>evolutions_pratiques_numeriques</th>\n",
       "      <th>sexe</th>\n",
       "      <th>disciplines_9niv</th>\n",
       "      <th>annee_de_naissance-recod10niv</th>\n",
       "    </tr>\n",
       "  </thead>\n",
       "  <tbody>\n",
       "    <tr>\n",
       "      <th>0</th>\n",
       "      <td>1</td>\n",
       "      <td>nous sommes entre 6 et 10 personnes</td>\n",
       "      <td>professeur / professeure des universités et as...</td>\n",
       "      <td>fonctionnaire ou assimilé</td>\n",
       "      <td>NaN</td>\n",
       "      <td>1995</td>\n",
       "      <td>Windows</td>\n",
       "      <td>rarement</td>\n",
       "      <td>parfois</td>\n",
       "      <td>souvent</td>\n",
       "      <td>...</td>\n",
       "      <td>oui</td>\n",
       "      <td>oui</td>\n",
       "      <td>oui</td>\n",
       "      <td>oui</td>\n",
       "      <td>oui</td>\n",
       "      <td>oui</td>\n",
       "      <td>je ne sais pas</td>\n",
       "      <td>un homme</td>\n",
       "      <td>Sciences humaines</td>\n",
       "      <td>61 à 65 ans</td>\n",
       "    </tr>\n",
       "    <tr>\n",
       "      <th>1</th>\n",
       "      <td>2</td>\n",
       "      <td>nous sommes plus de 50 personnes</td>\n",
       "      <td>ingénieur / ingénieure de recherche</td>\n",
       "      <td>en CDI</td>\n",
       "      <td>NaN</td>\n",
       "      <td>2005</td>\n",
       "      <td>Windows</td>\n",
       "      <td>rarement</td>\n",
       "      <td>parfois</td>\n",
       "      <td>parfois</td>\n",
       "      <td>...</td>\n",
       "      <td>oui</td>\n",
       "      <td>oui</td>\n",
       "      <td>oui</td>\n",
       "      <td>oui</td>\n",
       "      <td>oui</td>\n",
       "      <td>NaN</td>\n",
       "      <td>NaN</td>\n",
       "      <td>un homme</td>\n",
       "      <td>Médecine</td>\n",
       "      <td>46 à 50 ans</td>\n",
       "    </tr>\n",
       "    <tr>\n",
       "      <th>2</th>\n",
       "      <td>3</td>\n",
       "      <td>nous sommes entre 2 et 5 personnes</td>\n",
       "      <td>maître / maîtresse de conférences et assimilés</td>\n",
       "      <td>fonctionnaire ou assimilé</td>\n",
       "      <td>NaN</td>\n",
       "      <td>2006</td>\n",
       "      <td>Windows</td>\n",
       "      <td>parfois</td>\n",
       "      <td>rarement</td>\n",
       "      <td>souvent</td>\n",
       "      <td>...</td>\n",
       "      <td>oui</td>\n",
       "      <td>oui</td>\n",
       "      <td>oui</td>\n",
       "      <td>oui</td>\n",
       "      <td>oui</td>\n",
       "      <td>oui, tout est dans la chronologie</td>\n",
       "      <td>non</td>\n",
       "      <td>un homme</td>\n",
       "      <td>Médecine</td>\n",
       "      <td>36 à 40 ans</td>\n",
       "    </tr>\n",
       "    <tr>\n",
       "      <th>3</th>\n",
       "      <td>4</td>\n",
       "      <td>nous sommes entre 2 et 5 personnes</td>\n",
       "      <td>directeur / directrice de recherche (CNRS, INS...</td>\n",
       "      <td>fonctionnaire ou assimilé</td>\n",
       "      <td>NaN</td>\n",
       "      <td>1989</td>\n",
       "      <td>Windows;autres OS (Android...)</td>\n",
       "      <td>souvent</td>\n",
       "      <td>rarement</td>\n",
       "      <td>souvent</td>\n",
       "      <td>...</td>\n",
       "      <td>oui</td>\n",
       "      <td>oui</td>\n",
       "      <td>non</td>\n",
       "      <td>non</td>\n",
       "      <td>non</td>\n",
       "      <td>Oui</td>\n",
       "      <td>Aucune idée</td>\n",
       "      <td>une femme</td>\n",
       "      <td>Médecine</td>\n",
       "      <td>56 à 60 ans</td>\n",
       "    </tr>\n",
       "    <tr>\n",
       "      <th>4</th>\n",
       "      <td>5</td>\n",
       "      <td>nous sommes entre 2 et 5 personnes</td>\n",
       "      <td>doctorant / doctorante (y compris CIFRE)</td>\n",
       "      <td>en CDD</td>\n",
       "      <td>NaN</td>\n",
       "      <td>2015</td>\n",
       "      <td>MacOS</td>\n",
       "      <td>souvent</td>\n",
       "      <td>rarement</td>\n",
       "      <td>parfois</td>\n",
       "      <td>...</td>\n",
       "      <td>oui</td>\n",
       "      <td>oui</td>\n",
       "      <td>oui</td>\n",
       "      <td>oui</td>\n",
       "      <td>oui</td>\n",
       "      <td>Oui</td>\n",
       "      <td>Oui</td>\n",
       "      <td>une femme</td>\n",
       "      <td>Médecine</td>\n",
       "      <td>31 à 35 ans</td>\n",
       "    </tr>\n",
       "  </tbody>\n",
       "</table>\n",
       "<p>5 rows × 131 columns</p>\n",
       "</div>"
      ],
      "text/plain": [
       "   Id                     contexte_travail  \\\n",
       "0   1  nous sommes entre 6 et 10 personnes   \n",
       "1   2     nous sommes plus de 50 personnes   \n",
       "2   3   nous sommes entre 2 et 5 personnes   \n",
       "3   4   nous sommes entre 2 et 5 personnes   \n",
       "4   5   nous sommes entre 2 et 5 personnes   \n",
       "\n",
       "                                  fonction_recherche  \\\n",
       "0  professeur / professeure des universités et as...   \n",
       "1                ingénieur / ingénieure de recherche   \n",
       "2     maître / maîtresse de conférences et assimilés   \n",
       "3  directeur / directrice de recherche (CNRS, INS...   \n",
       "4           doctorant / doctorante (y compris CIFRE)   \n",
       "\n",
       "        statut_professionnel statut_professionnel_Autre  annee_premiere_publi  \\\n",
       "0  fonctionnaire ou assimilé                        NaN                  1995   \n",
       "1                     en CDI                        NaN                  2005   \n",
       "2  fonctionnaire ou assimilé                        NaN                  2006   \n",
       "3  fonctionnaire ou assimilé                        NaN                  1989   \n",
       "4                     en CDD                        NaN                  2015   \n",
       "\n",
       "             Systeme_exploitation Usage_telephone_mobile  \\\n",
       "0                         Windows               rarement   \n",
       "1                         Windows               rarement   \n",
       "2                         Windows                parfois   \n",
       "3  Windows;autres OS (Android...)                souvent   \n",
       "4                           MacOS                souvent   \n",
       "\n",
       "  Outils_gestion_travail_av_confinement_visioconférence  \\\n",
       "0                                            parfois      \n",
       "1                                            parfois      \n",
       "2                                           rarement      \n",
       "3                                           rarement      \n",
       "4                                           rarement      \n",
       "\n",
       "  Outils_gestion_travail_av_confinement_planification_RDV  ...  \\\n",
       "0                                            souvent       ...   \n",
       "1                                            parfois       ...   \n",
       "2                                            souvent       ...   \n",
       "3                                            souvent       ...   \n",
       "4                                            parfois       ...   \n",
       "\n",
       "  Souhait_partage_donnees_produites_discipline  \\\n",
       "0                                          oui   \n",
       "1                                          oui   \n",
       "2                                          oui   \n",
       "3                                          oui   \n",
       "4                                          oui   \n",
       "\n",
       "  Souhait_partage_donnees_produites_pays_continent  \\\n",
       "0                                              oui   \n",
       "1                                              oui   \n",
       "2                                              oui   \n",
       "3                                              oui   \n",
       "4                                              oui   \n",
       "\n",
       "  Souhait_partage_donnees_produites_domaine_economique  \\\n",
       "0                                                oui     \n",
       "1                                                oui     \n",
       "2                                                oui     \n",
       "3                                                non     \n",
       "4                                                oui     \n",
       "\n",
       "  Souhait_partage_donnees_produites_secteur_associatif  \\\n",
       "0                                                oui     \n",
       "1                                                oui     \n",
       "2                                                oui     \n",
       "3                                                non     \n",
       "4                                                oui     \n",
       "\n",
       "  Souhait_partage_donnees_produites_sans_restriction  \\\n",
       "0                                                oui   \n",
       "1                                                oui   \n",
       "2                                                oui   \n",
       "3                                                non   \n",
       "4                                                oui   \n",
       "\n",
       "     compatibilite_diffusion_partage evolutions_pratiques_numeriques  \\\n",
       "0                                oui                  je ne sais pas   \n",
       "1                                NaN                             NaN   \n",
       "2  oui, tout est dans la chronologie                             non   \n",
       "3                                Oui                     Aucune idée   \n",
       "4                                Oui                             Oui   \n",
       "\n",
       "        sexe   disciplines_9niv annee_de_naissance-recod10niv  \n",
       "0   un homme  Sciences humaines                   61 à 65 ans  \n",
       "1   un homme           Médecine                   46 à 50 ans  \n",
       "2   un homme           Médecine                   36 à 40 ans  \n",
       "3  une femme           Médecine                   56 à 60 ans  \n",
       "4  une femme           Médecine                   31 à 35 ans  \n",
       "\n",
       "[5 rows x 131 columns]"
      ]
     },
     "execution_count": 1,
     "metadata": {},
     "output_type": "execute_result"
    }
   ],
   "source": [
    "import pandas as pd\n",
    "data = pd.read_csv(\"data/SOSP_Export_base de données diffusable.csv\")\n",
    "data.head()"
   ]
  },
  {
   "cell_type": "markdown",
   "id": "74416648",
   "metadata": {
    "slideshow": {
     "slide_type": "slide"
    }
   },
   "source": [
    "Pendant que nous y sommes, chargeons les méta-données pour créer un dictionnaire des questions"
   ]
  },
  {
   "cell_type": "code",
   "execution_count": 2,
   "id": "21d51816",
   "metadata": {},
   "outputs": [
    {
     "data": {
      "text/html": [
       "<div>\n",
       "<style scoped>\n",
       "    .dataframe tbody tr th:only-of-type {\n",
       "        vertical-align: middle;\n",
       "    }\n",
       "\n",
       "    .dataframe tbody tr th {\n",
       "        vertical-align: top;\n",
       "    }\n",
       "\n",
       "    .dataframe thead th {\n",
       "        text-align: right;\n",
       "    }\n",
       "</style>\n",
       "<table border=\"1\" class=\"dataframe\">\n",
       "  <thead>\n",
       "    <tr style=\"text-align: right;\">\n",
       "      <th></th>\n",
       "      <th>Titre</th>\n",
       "      <th>Listes des variables avec les questions et modalités associées</th>\n",
       "      <th>Unnamed: 2</th>\n",
       "      <th>Unnamed: 3</th>\n",
       "      <th>Unnamed: 4</th>\n",
       "    </tr>\n",
       "  </thead>\n",
       "  <tbody>\n",
       "    <tr>\n",
       "      <th>31</th>\n",
       "      <td>ID</td>\n",
       "      <td>NaN</td>\n",
       "      <td>NaN</td>\n",
       "      <td>A</td>\n",
       "      <td>Identifiant de l’observé</td>\n",
       "    </tr>\n",
       "    <tr>\n",
       "      <th>32</th>\n",
       "      <td>contexte_travail</td>\n",
       "      <td>Habituellement, pour une opération de recherch...</td>\n",
       "      <td>je travaille seul   nous sommes entre 2 et 5 p...</td>\n",
       "      <td>B</td>\n",
       "      <td>NaN</td>\n",
       "    </tr>\n",
       "    <tr>\n",
       "      <th>33</th>\n",
       "      <td>fonction_recherche</td>\n",
       "      <td>Quelle est votre fonction dans la recherche ?</td>\n",
       "      <td>doctorant / doctorante (y compris CIFRE)   maî...</td>\n",
       "      <td>C</td>\n",
       "      <td>NaN</td>\n",
       "    </tr>\n",
       "    <tr>\n",
       "      <th>34</th>\n",
       "      <td>statut_professionnel</td>\n",
       "      <td>Quel est votre statut professionnel ?</td>\n",
       "      <td>Fonctionnaire ou assimilé en CDD   en CDI   po...</td>\n",
       "      <td>D</td>\n",
       "      <td>NaN</td>\n",
       "    </tr>\n",
       "    <tr>\n",
       "      <th>35</th>\n",
       "      <td>statut_professionnel_autre</td>\n",
       "      <td>Si, autre pouvez-vous préciser ?</td>\n",
       "      <td>Question ouverte</td>\n",
       "      <td>E</td>\n",
       "      <td>NaN</td>\n",
       "    </tr>\n",
       "    <tr>\n",
       "      <th>...</th>\n",
       "      <td>...</td>\n",
       "      <td>...</td>\n",
       "      <td>...</td>\n",
       "      <td>...</td>\n",
       "      <td>...</td>\n",
       "    </tr>\n",
       "    <tr>\n",
       "      <th>157</th>\n",
       "      <td>compatibilite_diffusion_partage\\n</td>\n",
       "      <td>34 - Le partage et la diffusion des données vo...</td>\n",
       "      <td>Question ouverte</td>\n",
       "      <td>DW</td>\n",
       "      <td>mots anonymisés sous forme de XXXXX</td>\n",
       "    </tr>\n",
       "    <tr>\n",
       "      <th>158</th>\n",
       "      <td>evolutions_pratiques_numeriques</td>\n",
       "      <td>35 - Selon vous, vos pratiques numériques vont...</td>\n",
       "      <td>Question ouverte</td>\n",
       "      <td>DX</td>\n",
       "      <td>mots anonymisés sous forme de XXXXX</td>\n",
       "    </tr>\n",
       "    <tr>\n",
       "      <th>159</th>\n",
       "      <td>sexe</td>\n",
       "      <td>Quel est votre genre ?</td>\n",
       "      <td>Une femme Un homme Je ne souhaite pas répondre</td>\n",
       "      <td>DY</td>\n",
       "      <td>NaN</td>\n",
       "    </tr>\n",
       "    <tr>\n",
       "      <th>160</th>\n",
       "      <td>Disciplines_9niv</td>\n",
       "      <td>Quelle est votre discipline principale de rech...</td>\n",
       "      <td>Sciences de l'ingénieur  Sciences humaines\\nSc...</td>\n",
       "      <td>DZ</td>\n",
       "      <td>recodage en 9 disciplines</td>\n",
       "    </tr>\n",
       "    <tr>\n",
       "      <th>161</th>\n",
       "      <td>annee_naissance_recod10niv</td>\n",
       "      <td>Quelle est votre année de naissance ?</td>\n",
       "      <td>Moins de 25 ans  25 à 30 ans 31 à 35 ans\\n36 à...</td>\n",
       "      <td>EA</td>\n",
       "      <td>NaN</td>\n",
       "    </tr>\n",
       "  </tbody>\n",
       "</table>\n",
       "<p>131 rows × 5 columns</p>\n",
       "</div>"
      ],
      "text/plain": [
       "                                 Titre  \\\n",
       "31                                  ID   \n",
       "32                   contexte_travail    \n",
       "33                  fonction_recherche   \n",
       "34                statut_professionnel   \n",
       "35          statut_professionnel_autre   \n",
       "..                                 ...   \n",
       "157  compatibilite_diffusion_partage\\n   \n",
       "158    evolutions_pratiques_numeriques   \n",
       "159                               sexe   \n",
       "160                   Disciplines_9niv   \n",
       "161         annee_naissance_recod10niv   \n",
       "\n",
       "    Listes des variables avec les questions et modalités associées  \\\n",
       "31                                                 NaN               \n",
       "32   Habituellement, pour une opération de recherch...               \n",
       "33       Quelle est votre fonction dans la recherche ?               \n",
       "34               Quel est votre statut professionnel ?               \n",
       "35                    Si, autre pouvez-vous préciser ?               \n",
       "..                                                 ...               \n",
       "157  34 - Le partage et la diffusion des données vo...               \n",
       "158  35 - Selon vous, vos pratiques numériques vont...               \n",
       "159                             Quel est votre genre ?               \n",
       "160  Quelle est votre discipline principale de rech...               \n",
       "161              Quelle est votre année de naissance ?               \n",
       "\n",
       "                                            Unnamed: 2 Unnamed: 3  \\\n",
       "31                                                 NaN          A   \n",
       "32   je travaille seul   nous sommes entre 2 et 5 p...          B   \n",
       "33   doctorant / doctorante (y compris CIFRE)   maî...          C   \n",
       "34   Fonctionnaire ou assimilé en CDD   en CDI   po...          D   \n",
       "35                                    Question ouverte          E   \n",
       "..                                                 ...        ...   \n",
       "157                                   Question ouverte         DW   \n",
       "158                                   Question ouverte         DX   \n",
       "159     Une femme Un homme Je ne souhaite pas répondre         DY   \n",
       "160  Sciences de l'ingénieur  Sciences humaines\\nSc...         DZ   \n",
       "161  Moins de 25 ans  25 à 30 ans 31 à 35 ans\\n36 à...         EA   \n",
       "\n",
       "                              Unnamed: 4  \n",
       "31              Identifiant de l’observé  \n",
       "32                                   NaN  \n",
       "33                                   NaN  \n",
       "34                                   NaN  \n",
       "35                                   NaN  \n",
       "..                                   ...  \n",
       "157  mots anonymisés sous forme de XXXXX  \n",
       "158  mots anonymisés sous forme de XXXXX  \n",
       "159                                  NaN  \n",
       "160            recodage en 9 disciplines  \n",
       "161                                  NaN  \n",
       "\n",
       "[131 rows x 5 columns]"
      ]
     },
     "execution_count": 2,
     "metadata": {},
     "output_type": "execute_result"
    }
   ],
   "source": [
    "questions = pd.read_csv(\"data/SOSP_metadonnees_variables.csv\")\n",
    "questions = questions[31:] # le tableau ne commence qu'à la ligne 31\n",
    "dic_questions = dict(questions.set_index(\"Titre\")[\"Listes des variables avec les questions et modalités associées\"])\n",
    "questions"
   ]
  },
  {
   "cell_type": "markdown",
   "id": "6e37ed15",
   "metadata": {
    "slideshow": {
     "slide_type": "slide"
    }
   },
   "source": [
    "## 1.2 Petite exploration des données\n",
    "\n",
    "Encore une fois, Pandas est utile ... C'est le moment où on explore"
   ]
  },
  {
   "cell_type": "code",
   "execution_count": 3,
   "id": "c80e5453",
   "metadata": {},
   "outputs": [
    {
     "data": {
      "text/plain": [
       "un homme                       565\n",
       "une femme                      480\n",
       "je ne souhaite pas répondre     44\n",
       "Name: sexe, dtype: int64"
      ]
     },
     "execution_count": 3,
     "metadata": {},
     "output_type": "execute_result"
    }
   ],
   "source": [
    "data[\"sexe\"].value_counts()"
   ]
  },
  {
   "cell_type": "markdown",
   "id": "dfe086dc",
   "metadata": {
    "slideshow": {
     "slide_type": "slide"
    }
   },
   "source": [
    "Tout peut se faire avec Pandas. Il est possible d'avoir des outils plus spécifiques pour simplifier (comme PySHS)"
   ]
  },
  {
   "cell_type": "code",
   "execution_count": 4,
   "id": "02709641",
   "metadata": {},
   "outputs": [],
   "source": [
    "#pip install pyshs\n",
    "import pyshs"
   ]
  },
  {
   "cell_type": "code",
   "execution_count": 5,
   "id": "7b32681a",
   "metadata": {},
   "outputs": [
    {
     "data": {
      "text/html": [
       "<div>\n",
       "<style scoped>\n",
       "    .dataframe tbody tr th:only-of-type {\n",
       "        vertical-align: middle;\n",
       "    }\n",
       "\n",
       "    .dataframe tbody tr th {\n",
       "        vertical-align: top;\n",
       "    }\n",
       "\n",
       "    .dataframe thead th {\n",
       "        text-align: right;\n",
       "    }\n",
       "</style>\n",
       "<table border=\"1\" class=\"dataframe\">\n",
       "  <thead>\n",
       "    <tr style=\"text-align: right;\">\n",
       "      <th></th>\n",
       "      <th>Effectif</th>\n",
       "      <th>Pourcentage (%)</th>\n",
       "    </tr>\n",
       "  </thead>\n",
       "  <tbody>\n",
       "    <tr>\n",
       "      <th>Chimie, Matériaux</th>\n",
       "      <td>59.0</td>\n",
       "      <td>5.5</td>\n",
       "    </tr>\n",
       "    <tr>\n",
       "      <th>Lettres et Arts</th>\n",
       "      <td>58.0</td>\n",
       "      <td>5.4</td>\n",
       "    </tr>\n",
       "    <tr>\n",
       "      <th>Mathématiques, Informatiques</th>\n",
       "      <td>138.0</td>\n",
       "      <td>12.8</td>\n",
       "    </tr>\n",
       "    <tr>\n",
       "      <th>Médecine</th>\n",
       "      <td>54.0</td>\n",
       "      <td>5.0</td>\n",
       "    </tr>\n",
       "    <tr>\n",
       "      <th>Physique, Sciences de la terre et de l'Univers</th>\n",
       "      <td>103.0</td>\n",
       "      <td>9.6</td>\n",
       "    </tr>\n",
       "    <tr>\n",
       "      <th>Science de l'ingénieur</th>\n",
       "      <td>91.0</td>\n",
       "      <td>8.5</td>\n",
       "    </tr>\n",
       "    <tr>\n",
       "      <th>Sciences du vivant</th>\n",
       "      <td>138.0</td>\n",
       "      <td>12.8</td>\n",
       "    </tr>\n",
       "    <tr>\n",
       "      <th>Sciences humaines</th>\n",
       "      <td>274.0</td>\n",
       "      <td>25.5</td>\n",
       "    </tr>\n",
       "    <tr>\n",
       "      <th>Sciences sociales</th>\n",
       "      <td>161.0</td>\n",
       "      <td>15.0</td>\n",
       "    </tr>\n",
       "    <tr>\n",
       "      <th>Total</th>\n",
       "      <td>1076.0</td>\n",
       "      <td>100.1</td>\n",
       "    </tr>\n",
       "  </tbody>\n",
       "</table>\n",
       "</div>"
      ],
      "text/plain": [
       "                                                Effectif  Pourcentage (%)\n",
       "Chimie, Matériaux                                   59.0              5.5\n",
       "Lettres et Arts                                     58.0              5.4\n",
       "Mathématiques, Informatiques                       138.0             12.8\n",
       "Médecine                                            54.0              5.0\n",
       "Physique, Sciences de la terre et de l'Univers     103.0              9.6\n",
       "Science de l'ingénieur                              91.0              8.5\n",
       "Sciences du vivant                                 138.0             12.8\n",
       "Sciences humaines                                  274.0             25.5\n",
       "Sciences sociales                                  161.0             15.0\n",
       "Total                                             1076.0            100.1"
      ]
     },
     "execution_count": 5,
     "metadata": {},
     "output_type": "execute_result"
    }
   ],
   "source": [
    "pyshs.tri_a_plat(data,\"disciplines_9niv\")"
   ]
  },
  {
   "cell_type": "code",
   "execution_count": 6,
   "id": "c3547bc0",
   "metadata": {
    "slideshow": {
     "slide_type": "slide"
    }
   },
   "outputs": [
    {
     "data": {
      "text/html": [
       "<div>\n",
       "<style scoped>\n",
       "    .dataframe tbody tr th:only-of-type {\n",
       "        vertical-align: middle;\n",
       "    }\n",
       "\n",
       "    .dataframe tbody tr th {\n",
       "        vertical-align: top;\n",
       "    }\n",
       "\n",
       "    .dataframe thead th {\n",
       "        text-align: right;\n",
       "    }\n",
       "</style>\n",
       "<table border=\"1\" class=\"dataframe\">\n",
       "  <thead>\n",
       "    <tr style=\"text-align: right;\">\n",
       "      <th></th>\n",
       "      <th>Effectif</th>\n",
       "      <th>Pourcentage (%)</th>\n",
       "    </tr>\n",
       "  </thead>\n",
       "  <tbody>\n",
       "    <tr>\n",
       "      <th>autre</th>\n",
       "      <td>2.0</td>\n",
       "      <td>0.2</td>\n",
       "    </tr>\n",
       "    <tr>\n",
       "      <th>chômage</th>\n",
       "      <td>6.0</td>\n",
       "      <td>0.6</td>\n",
       "    </tr>\n",
       "    <tr>\n",
       "      <th>contrat doctoral</th>\n",
       "      <td>99.0</td>\n",
       "      <td>9.1</td>\n",
       "    </tr>\n",
       "    <tr>\n",
       "      <th>doctorant non financé</th>\n",
       "      <td>7.0</td>\n",
       "      <td>0.6</td>\n",
       "    </tr>\n",
       "    <tr>\n",
       "      <th>en CDD</th>\n",
       "      <td>95.0</td>\n",
       "      <td>8.7</td>\n",
       "    </tr>\n",
       "    <tr>\n",
       "      <th>en CDI</th>\n",
       "      <td>109.0</td>\n",
       "      <td>10.0</td>\n",
       "    </tr>\n",
       "    <tr>\n",
       "      <th>fonctionnaire ou assimilé</th>\n",
       "      <td>711.0</td>\n",
       "      <td>65.3</td>\n",
       "    </tr>\n",
       "    <tr>\n",
       "      <th>post-doc</th>\n",
       "      <td>30.0</td>\n",
       "      <td>2.8</td>\n",
       "    </tr>\n",
       "    <tr>\n",
       "      <th>professeur / chercheur émérite</th>\n",
       "      <td>3.0</td>\n",
       "      <td>0.3</td>\n",
       "    </tr>\n",
       "    <tr>\n",
       "      <th>retraité</th>\n",
       "      <td>5.0</td>\n",
       "      <td>0.5</td>\n",
       "    </tr>\n",
       "    <tr>\n",
       "      <th>travailleur indépendant</th>\n",
       "      <td>20.0</td>\n",
       "      <td>1.8</td>\n",
       "    </tr>\n",
       "    <tr>\n",
       "      <th>vacataire</th>\n",
       "      <td>2.0</td>\n",
       "      <td>0.2</td>\n",
       "    </tr>\n",
       "    <tr>\n",
       "      <th>Total</th>\n",
       "      <td>1089.0</td>\n",
       "      <td>100.1</td>\n",
       "    </tr>\n",
       "  </tbody>\n",
       "</table>\n",
       "</div>"
      ],
      "text/plain": [
       "                                Effectif  Pourcentage (%)\n",
       "autre                                2.0              0.2\n",
       "chômage                              6.0              0.6\n",
       "contrat doctoral                    99.0              9.1\n",
       "doctorant non financé                7.0              0.6\n",
       "en CDD                              95.0              8.7\n",
       "en CDI                             109.0             10.0\n",
       "fonctionnaire ou assimilé          711.0             65.3\n",
       "post-doc                            30.0              2.8\n",
       "professeur / chercheur émérite       3.0              0.3\n",
       "retraité                             5.0              0.5\n",
       "travailleur indépendant             20.0              1.8\n",
       "vacataire                            2.0              0.2\n",
       "Total                             1089.0            100.1"
      ]
     },
     "execution_count": 6,
     "metadata": {},
     "output_type": "execute_result"
    }
   ],
   "source": [
    "pyshs.tri_a_plat(data,\"statut_professionnel\")"
   ]
  },
  {
   "cell_type": "markdown",
   "id": "3847d569",
   "metadata": {
    "slideshow": {
     "slide_type": "slide"
    }
   },
   "source": [
    "### 1.3 Ce qui amène à se concentrer sur certaines variables\n",
    "\n",
    "Avec l'identification de questions, de réflexions, etc. (il faut bien sûr prendre le temps de se familiariser avec ses données).\n",
    "\n",
    "Se concentrer sur un sous-ensembles de questions\n",
    "\n",
    "- fonction_recherche\n",
    "- statut_professionnel / statut_professionnel_Autre\n",
    "- annee_premiere_publi\n",
    "- Systeme_exploitation\n",
    "- 'sexe'\n",
    "- 'disciplines_9niv',\n",
    "- 'annee_de_naissance-recod10niv'\n",
    "\n",
    "Et à formuler des questions (dans le cadre de cette présentation) :\n",
    "\n",
    "- qui utilise quel système d'exploitation ?\n",
    "- qui utilise Python ou R ?\n",
    "- etc."
   ]
  },
  {
   "cell_type": "markdown",
   "id": "35e2c82b",
   "metadata": {
    "slideshow": {
     "slide_type": "slide"
    }
   },
   "source": [
    "### 1.4 Moment de recodage des variables\n",
    "\n",
    "Un exemple sur les systèmes d'exploitation : toutes les combinaisons ne m'intéressent pas, je veux plutôt : usager Linux, Windows, Mac, et seul ou combinaison. Je vais donc créer une variable par système"
   ]
  },
  {
   "cell_type": "code",
   "execution_count": 7,
   "id": "d0af738d",
   "metadata": {},
   "outputs": [],
   "source": [
    "data[\"OS_windows\"] = data[\"Systeme_exploitation\"].str.contains(\"Windows\")\n",
    "data[\"OS_linux\"] = data[\"Systeme_exploitation\"].str.contains(\"Linux|Unix\")\n",
    "data[\"OS_mac\"] = data[\"Systeme_exploitation\"].str.contains(\"Mac\")\n",
    "data[\"OS_multiples\"] = data[\"Systeme_exploitation\"].str.contains(\";\")"
   ]
  },
  {
   "cell_type": "markdown",
   "id": "3053235c",
   "metadata": {
    "slideshow": {
     "slide_type": "slide"
    }
   },
   "source": [
    "Ou encore modifier les modalités d'une variable"
   ]
  },
  {
   "cell_type": "code",
   "execution_count": 8,
   "id": "2f9a81e6",
   "metadata": {
    "slideshow": {
     "slide_type": "-"
    }
   },
   "outputs": [],
   "source": [
    "data[\"disciplines_reco\"] = data[\"disciplines_9niv\"].replace({\"Lettres et Arts\":\"SHS\",\n",
    "                                                             \"Sciences humaines\":\"SHS\",\n",
    "                                                             \"Sciences sociales\":\"SHS\",\n",
    "                                        \"Physique, Sciences de la terre et de l'Univers\":\"Physique & Univers\"})"
   ]
  },
  {
   "cell_type": "code",
   "execution_count": 9,
   "id": "3b52be67",
   "metadata": {},
   "outputs": [
    {
     "data": {
      "text/plain": [
       "SHS                             493\n",
       "Mathématiques, Informatiques    138\n",
       "Sciences du vivant              138\n",
       "Physique & Univers              103\n",
       "Science de l'ingénieur           91\n",
       "Chimie, Matériaux                59\n",
       "Médecine                         54\n",
       "Name: disciplines_reco, dtype: int64"
      ]
     },
     "execution_count": 9,
     "metadata": {},
     "output_type": "execute_result"
    }
   ],
   "source": [
    "data[\"disciplines_reco\"].value_counts()"
   ]
  },
  {
   "cell_type": "markdown",
   "id": "b4fa7f14",
   "metadata": {},
   "source": [
    "Et toujours, continuer l'exploration des données"
   ]
  },
  {
   "cell_type": "code",
   "execution_count": 10,
   "id": "e95582d3",
   "metadata": {},
   "outputs": [
    {
     "data": {
      "text/html": [
       "<div>\n",
       "<style scoped>\n",
       "    .dataframe tbody tr th:only-of-type {\n",
       "        vertical-align: middle;\n",
       "    }\n",
       "\n",
       "    .dataframe tbody tr th {\n",
       "        vertical-align: top;\n",
       "    }\n",
       "\n",
       "    .dataframe thead th {\n",
       "        text-align: right;\n",
       "    }\n",
       "</style>\n",
       "<table border=\"1\" class=\"dataframe\">\n",
       "  <thead>\n",
       "    <tr style=\"text-align: right;\">\n",
       "      <th></th>\n",
       "      <th>Effectif</th>\n",
       "      <th>Pourcentage (%)</th>\n",
       "    </tr>\n",
       "  </thead>\n",
       "  <tbody>\n",
       "    <tr>\n",
       "      <th>False</th>\n",
       "      <td>762.0</td>\n",
       "      <td>70.0</td>\n",
       "    </tr>\n",
       "    <tr>\n",
       "      <th>True</th>\n",
       "      <td>327.0</td>\n",
       "      <td>30.0</td>\n",
       "    </tr>\n",
       "    <tr>\n",
       "      <th>Total</th>\n",
       "      <td>1089.0</td>\n",
       "      <td>100.0</td>\n",
       "    </tr>\n",
       "  </tbody>\n",
       "</table>\n",
       "</div>"
      ],
      "text/plain": [
       "       Effectif  Pourcentage (%)\n",
       "False     762.0             70.0\n",
       "True      327.0             30.0\n",
       "Total    1089.0            100.0"
      ]
     },
     "execution_count": 10,
     "metadata": {},
     "output_type": "execute_result"
    }
   ],
   "source": [
    "pyshs.tri_a_plat(data,\"OS_linux\")"
   ]
  },
  {
   "cell_type": "markdown",
   "id": "3916655a",
   "metadata": {
    "slideshow": {
     "slide_type": "slide"
    }
   },
   "source": [
    "## 2. Reproduction de résultats du rapport\n",
    "\n",
    "Imaginons que je n'aime pas les donuts et les effets 3D...\n",
    "\n",
    "![Image 1 du rapport](sor1.png)"
   ]
  },
  {
   "cell_type": "markdown",
   "id": "35a25ef3",
   "metadata": {},
   "source": [
    "Ca pose une question centrale : quelle méthode choisir ? Il y a plusieurs manières de procéder.\n",
    "\n",
    "La première : **Out of the box** avec Pandas"
   ]
  },
  {
   "cell_type": "code",
   "execution_count": 11,
   "id": "e6c68728",
   "metadata": {},
   "outputs": [
    {
     "data": {
      "text/plain": [
       "<AxesSubplot:ylabel='disciplines_9niv'>"
      ]
     },
     "execution_count": 11,
     "metadata": {},
     "output_type": "execute_result"
    },
    {
     "data": {
      "image/png": "[encoded data removed]",
      "text/plain": [
       "<Figure size 432x288 with 1 Axes>"
      ]
     },
     "metadata": {},
     "output_type": "display_data"
    }
   ],
   "source": [
    "data[\"disciplines_9niv\"].value_counts().plot(kind=\"pie\")"
   ]
  },
  {
   "cell_type": "markdown",
   "id": "be7b863f",
   "metadata": {},
   "source": [
    "C'est pas top. Et pas publiable.\n",
    "\n",
    "On peut tenter un peu mis en forme avec la bibliothèque \"de base\" Matplotlib dont il faut comprendre la grammaire"
   ]
  },
  {
   "cell_type": "code",
   "execution_count": 12,
   "id": "d2f5c7ff",
   "metadata": {
    "slideshow": {
     "slide_type": "slide"
    }
   },
   "outputs": [
    {
     "name": "stdout",
     "output_type": "stream",
     "text": [
      "[0.05, 0.05, 0.05, 0.05, 0.05, 0.05, 0.05, 0.05, 0.05]\n"
     ]
    },
    {
     "data": {
      "image/png": "[encoded data removed]",
      "text/plain": [
       "<Figure size 360x360 with 1 Axes>"
      ]
     },
     "metadata": {},
     "output_type": "display_data"
    }
   ],
   "source": [
    "# Importer l'API\n",
    "import matplotlib.pyplot as plt\n",
    "\n",
    "# Définir l'écart entre les parts (c'est à nous de définir)\n",
    "exp = [0.05] * len(data[\"disciplines_9niv\"].dropna().unique())\n",
    "print(exp)\n",
    "\n",
    "# Graphique avec options (passé un peu de temps à chercher)\n",
    "data[\"disciplines_9niv\"].value_counts().plot(kind=\"pie\",\n",
    "                                             cmap=\"viridis\", figsize=(5,5),\n",
    "                                             explode=exp, autopct='%1.1f%%', textprops={'color':\"w\"})\n",
    "# Finaliser et sauvegarder\n",
    "plt.ylabel(\"\")\n",
    "plt.title(\"Une diversité de discipline\")\n",
    "plt.savefig(\"Mon graphique.png\",bbox_inches='tight')"
   ]
  },
  {
   "cell_type": "markdown",
   "id": "732d029c",
   "metadata": {
    "slideshow": {
     "slide_type": "slide"
    }
   },
   "source": [
    "Il est possible d'aller plus loin. La même en dynamique avec Plotly : plus d'options de visualisation, etc. (ça ne s'affiche pas sur Github)"
   ]
  },
  {
   "cell_type": "code",
   "execution_count": 13,
   "id": "e7915517",
   "metadata": {},
   "outputs": [
    {
     "data": {
      "text/html": [
       "        <script type=\"text/javascript\">\n",
       "        window.PlotlyConfig = {MathJaxConfig: 'local'};\n",
       "        if (window.MathJax) {MathJax.Hub.Config({SVG: {font: \"STIX-Web\"}});}\n",
       "        if (typeof require !== 'undefined') {\n",
       "        require.undef(\"plotly\");\n",
       "        requirejs.config({\n",
       "            paths: {\n",
       "                'plotly': ['https://cdn.plot.ly/plotly-2.9.0.min']\n",
       "            }\n",
       "        });\n",
       "        require(['plotly'], function(Plotly) {\n",
       "            window._Plotly = Plotly;\n",
       "        });\n",
       "        }\n",
       "        </script>\n",
       "        "
      ]
     },
     "metadata": {},
     "output_type": "display_data"
    },
    {
     "data": {
      "application/vnd.plotly.v1+json": {
       "config": {
        "plotlyServerURL": "https://plot.ly"
       },
       "data": [
        {
         "domain": {
          "x": [
           0,
           1
          ],
          "y": [
           0,
           1
          ]
         },
         "hovertemplate": "index=%{label}<br>disciplines_9niv=%{value}<extra></extra>",
         "labels": [
          "Sciences humaines",
          "Sciences sociales",
          "Mathématiques, Informatiques",
          "Sciences du vivant",
          "Physique, Sciences de la terre et de l'Univers",
          "Science de l'ingénieur",
          "Chimie, Matériaux",
          "Lettres et Arts",
          "Médecine"
         ],
         "legendgroup": "",
         "name": "",
         "showlegend": true,
         "type": "pie",
         "values": [
          274,
          161,
          138,
          138,
          103,
          91,
          59,
          58,
          54
         ]
        }
       ],
       "layout": {
        "font": {
         "color": "blue",
         "family": "Courier New"
        },
        "legend": {
         "tracegroupgap": 0
        },
        "template": {
         "data": {
          "bar": [
           {
            "error_x": {
             "color": "#2a3f5f"
            },
            "error_y": {
             "color": "#2a3f5f"
            },
            "marker": {
             "line": {
              "color": "#E5ECF6",
              "width": 0.5
             },
             "pattern": {
              "fillmode": "overlay",
              "size": 10,
              "solidity": 0.2
             }
            },
            "type": "bar"
           }
          ],
          "barpolar": [
           {
            "marker": {
             "line": {
              "color": "#E5ECF6",
              "width": 0.5
             },
             "pattern": {
              "fillmode": "overlay",
              "size": 10,
              "solidity": 0.2
             }
            },
            "type": "barpolar"
           }
          ],
          "carpet": [
           {
            "aaxis": {
             "endlinecolor": "#2a3f5f",
             "gridcolor": "white",
             "linecolor": "white",
             "minorgridcolor": "white",
             "startlinecolor": "#2a3f5f"
            },
            "baxis": {
             "endlinecolor": "#2a3f5f",
             "gridcolor": "white",
             "linecolor": "white",
             "minorgridcolor": "white",
             "startlinecolor": "#2a3f5f"
            },
            "type": "carpet"
           }
          ],
          "choropleth": [
           {
            "colorbar": {
             "outlinewidth": 0,
             "ticks": ""
            },
            "type": "choropleth"
           }
          ],
          "contour": [
           {
            "colorbar": {
             "outlinewidth": 0,
             "ticks": ""
            },
            "colorscale": [
             [
              0,
              "#0d0887"
             ],
             [
              0.1111111111111111,
              "#46039f"
             ],
             [
              0.2222222222222222,
              "#7201a8"
             ],
             [
              0.3333333333333333,
              "#9c179e"
             ],
             [
              0.4444444444444444,
              "#bd3786"
             ],
             [
              0.5555555555555556,
              "#d8576b"
             ],
             [
              0.6666666666666666,
              "#ed7953"
             ],
             [
              0.7777777777777778,
              "#fb9f3a"
             ],
             [
              0.8888888888888888,
              "#fdca26"
             ],
             [
              1,
              "#f0f921"
             ]
            ],
            "type": "contour"
           }
          ],
          "contourcarpet": [
           {
            "colorbar": {
             "outlinewidth": 0,
             "ticks": ""
            },
            "type": "contourcarpet"
           }
          ],
          "heatmap": [
           {
            "colorbar": {
             "outlinewidth": 0,
             "ticks": ""
            },
            "colorscale": [
             [
              0,
              "#0d0887"
             ],
             [
              0.1111111111111111,
              "#46039f"
             ],
             [
              0.2222222222222222,
              "#7201a8"
             ],
             [
              0.3333333333333333,
              "#9c179e"
             ],
             [
              0.4444444444444444,
              "#bd3786"
             ],
             [
              0.5555555555555556,
              "#d8576b"
             ],
             [
              0.6666666666666666,
              "#ed7953"
             ],
             [
              0.7777777777777778,
              "#fb9f3a"
             ],
             [
              0.8888888888888888,
              "#fdca26"
             ],
             [
              1,
              "#f0f921"
             ]
            ],
            "type": "heatmap"
           }
          ],
          "heatmapgl": [
           {
            "colorbar": {
             "outlinewidth": 0,
             "ticks": ""
            },
            "colorscale": [
             [
              0,
              "#0d0887"
             ],
             [
              0.1111111111111111,
              "#46039f"
             ],
             [
              0.2222222222222222,
              "#7201a8"
             ],
             [
              0.3333333333333333,
              "#9c179e"
             ],
             [
              0.4444444444444444,
              "#bd3786"
             ],
             [
              0.5555555555555556,
              "#d8576b"
             ],
             [
              0.6666666666666666,
              "#ed7953"
             ],
             [
              0.7777777777777778,
              "#fb9f3a"
             ],
             [
              0.8888888888888888,
              "#fdca26"
             ],
             [
              1,
              "#f0f921"
             ]
            ],
            "type": "heatmapgl"
           }
          ],
          "histogram": [
           {
            "marker": {
             "pattern": {
              "fillmode": "overlay",
              "size": 10,
              "solidity": 0.2
             }
            },
            "type": "histogram"
           }
          ],
          "histogram2d": [
           {
            "colorbar": {
             "outlinewidth": 0,
             "ticks": ""
            },
            "colorscale": [
             [
              0,
              "#0d0887"
             ],
             [
              0.1111111111111111,
              "#46039f"
             ],
             [
              0.2222222222222222,
              "#7201a8"
             ],
             [
              0.3333333333333333,
              "#9c179e"
             ],
             [
              0.4444444444444444,
              "#bd3786"
             ],
             [
              0.5555555555555556,
              "#d8576b"
             ],
             [
              0.6666666666666666,
              "#ed7953"
             ],
             [
              0.7777777777777778,
              "#fb9f3a"
             ],
             [
              0.8888888888888888,
              "#fdca26"
             ],
             [
              1,
              "#f0f921"
             ]
            ],
            "type": "histogram2d"
           }
          ],
          "histogram2dcontour": [
           {
            "colorbar": {
             "outlinewidth": 0,
             "ticks": ""
            },
            "colorscale": [
             [
              0,
              "#0d0887"
             ],
             [
              0.1111111111111111,
              "#46039f"
             ],
             [
              0.2222222222222222,
              "#7201a8"
             ],
             [
              0.3333333333333333,
              "#9c179e"
             ],
             [
              0.4444444444444444,
              "#bd3786"
             ],
             [
              0.5555555555555556,
              "#d8576b"
             ],
             [
              0.6666666666666666,
              "#ed7953"
             ],
             [
              0.7777777777777778,
              "#fb9f3a"
             ],
             [
              0.8888888888888888,
              "#fdca26"
             ],
             [
              1,
              "#f0f921"
             ]
            ],
            "type": "histogram2dcontour"
           }
          ],
          "mesh3d": [
           {
            "colorbar": {
             "outlinewidth": 0,
             "ticks": ""
            },
            "type": "mesh3d"
           }
          ],
          "parcoords": [
           {
            "line": {
             "colorbar": {
              "outlinewidth": 0,
              "ticks": ""
             }
            },
            "type": "parcoords"
           }
          ],
          "pie": [
           {
            "automargin": true,
            "type": "pie"
           }
          ],
          "scatter": [
           {
            "marker": {
             "colorbar": {
              "outlinewidth": 0,
              "ticks": ""
             }
            },
            "type": "scatter"
           }
          ],
          "scatter3d": [
           {
            "line": {
             "colorbar": {
              "outlinewidth": 0,
              "ticks": ""
             }
            },
            "marker": {
             "colorbar": {
              "outlinewidth": 0,
              "ticks": ""
             }
            },
            "type": "scatter3d"
           }
          ],
          "scattercarpet": [
           {
            "marker": {
             "colorbar": {
              "outlinewidth": 0,
              "ticks": ""
             }
            },
            "type": "scattercarpet"
           }
          ],
          "scattergeo": [
           {
            "marker": {
             "colorbar": {
              "outlinewidth": 0,
              "ticks": ""
             }
            },
            "type": "scattergeo"
           }
          ],
          "scattergl": [
           {
            "marker": {
             "colorbar": {
              "outlinewidth": 0,
              "ticks": ""
             }
            },
            "type": "scattergl"
           }
          ],
          "scattermapbox": [
           {
            "marker": {
             "colorbar": {
              "outlinewidth": 0,
              "ticks": ""
             }
            },
            "type": "scattermapbox"
           }
          ],
          "scatterpolar": [
           {
            "marker": {
             "colorbar": {
              "outlinewidth": 0,
              "ticks": ""
             }
            },
            "type": "scatterpolar"
           }
          ],
          "scatterpolargl": [
           {
            "marker": {
             "colorbar": {
              "outlinewidth": 0,
              "ticks": ""
             }
            },
            "type": "scatterpolargl"
           }
          ],
          "scatterternary": [
           {
            "marker": {
             "colorbar": {
              "outlinewidth": 0,
              "ticks": ""
             }
            },
            "type": "scatterternary"
           }
          ],
          "surface": [
           {
            "colorbar": {
             "outlinewidth": 0,
             "ticks": ""
            },
            "colorscale": [
             [
              0,
              "#0d0887"
             ],
             [
              0.1111111111111111,
              "#46039f"
             ],
             [
              0.2222222222222222,
              "#7201a8"
             ],
             [
              0.3333333333333333,
              "#9c179e"
             ],
             [
              0.4444444444444444,
              "#bd3786"
             ],
             [
              0.5555555555555556,
              "#d8576b"
             ],
             [
              0.6666666666666666,
              "#ed7953"
             ],
             [
              0.7777777777777778,
              "#fb9f3a"
             ],
             [
              0.8888888888888888,
              "#fdca26"
             ],
             [
              1,
              "#f0f921"
             ]
            ],
            "type": "surface"
           }
          ],
          "table": [
           {
            "cells": {
             "fill": {
              "color": "#EBF0F8"
             },
             "line": {
              "color": "white"
             }
            },
            "header": {
             "fill": {
              "color": "#C8D4E3"
             },
             "line": {
              "color": "white"
             }
            },
            "type": "table"
           }
          ]
         },
         "layout": {
          "annotationdefaults": {
           "arrowcolor": "#2a3f5f",
           "arrowhead": 0,
           "arrowwidth": 1
          },
          "autotypenumbers": "strict",
          "coloraxis": {
           "colorbar": {
            "outlinewidth": 0,
            "ticks": ""
           }
          },
          "colorscale": {
           "diverging": [
            [
             0,
             "#8e0152"
            ],
            [
             0.1,
             "#c51b7d"
            ],
            [
             0.2,
             "#de77ae"
            ],
            [
             0.3,
             "#f1b6da"
            ],
            [
             0.4,
             "#fde0ef"
            ],
            [
             0.5,
             "#f7f7f7"
            ],
            [
             0.6,
             "#e6f5d0"
            ],
            [
             0.7,
             "#b8e186"
            ],
            [
             0.8,
             "#7fbc41"
            ],
            [
             0.9,
             "#4d9221"
            ],
            [
             1,
             "#276419"
            ]
           ],
           "sequential": [
            [
             0,
             "#0d0887"
            ],
            [
             0.1111111111111111,
             "#46039f"
            ],
            [
             0.2222222222222222,
             "#7201a8"
            ],
            [
             0.3333333333333333,
             "#9c179e"
            ],
            [
             0.4444444444444444,
             "#bd3786"
            ],
            [
             0.5555555555555556,
             "#d8576b"
            ],
            [
             0.6666666666666666,
             "#ed7953"
            ],
            [
             0.7777777777777778,
             "#fb9f3a"
            ],
            [
             0.8888888888888888,
             "#fdca26"
            ],
            [
             1,
             "#f0f921"
            ]
           ],
           "sequentialminus": [
            [
             0,
             "#0d0887"
            ],
            [
             0.1111111111111111,
             "#46039f"
            ],
            [
             0.2222222222222222,
             "#7201a8"
            ],
            [
             0.3333333333333333,
             "#9c179e"
            ],
            [
             0.4444444444444444,
             "#bd3786"
            ],
            [
             0.5555555555555556,
             "#d8576b"
            ],
            [
             0.6666666666666666,
             "#ed7953"
            ],
            [
             0.7777777777777778,
             "#fb9f3a"
            ],
            [
             0.8888888888888888,
             "#fdca26"
            ],
            [
             1,
             "#f0f921"
            ]
           ]
          },
          "colorway": [
           "#636efa",
           "#EF553B",
           "#00cc96",
           "#ab63fa",
           "#FFA15A",
           "#19d3f3",
           "#FF6692",
           "#B6E880",
           "#FF97FF",
           "#FECB52"
          ],
          "font": {
           "color": "#2a3f5f"
          },
          "geo": {
           "bgcolor": "white",
           "lakecolor": "white",
           "landcolor": "#E5ECF6",
           "showlakes": true,
           "showland": true,
           "subunitcolor": "white"
          },
          "hoverlabel": {
           "align": "left"
          },
          "hovermode": "closest",
          "mapbox": {
           "style": "light"
          },
          "paper_bgcolor": "white",
          "plot_bgcolor": "#E5ECF6",
          "polar": {
           "angularaxis": {
            "gridcolor": "white",
            "linecolor": "white",
            "ticks": ""
           },
           "bgcolor": "#E5ECF6",
           "radialaxis": {
            "gridcolor": "white",
            "linecolor": "white",
            "ticks": ""
           }
          },
          "scene": {
           "xaxis": {
            "backgroundcolor": "#E5ECF6",
            "gridcolor": "white",
            "gridwidth": 2,
            "linecolor": "white",
            "showbackground": true,
            "ticks": "",
            "zerolinecolor": "white"
           },
           "yaxis": {
            "backgroundcolor": "#E5ECF6",
            "gridcolor": "white",
            "gridwidth": 2,
            "linecolor": "white",
            "showbackground": true,
            "ticks": "",
            "zerolinecolor": "white"
           },
           "zaxis": {
            "backgroundcolor": "#E5ECF6",
            "gridcolor": "white",
            "gridwidth": 2,
            "linecolor": "white",
            "showbackground": true,
            "ticks": "",
            "zerolinecolor": "white"
           }
          },
          "shapedefaults": {
           "line": {
            "color": "#2a3f5f"
           }
          },
          "ternary": {
           "aaxis": {
            "gridcolor": "white",
            "linecolor": "white",
            "ticks": ""
           },
           "baxis": {
            "gridcolor": "white",
            "linecolor": "white",
            "ticks": ""
           },
           "bgcolor": "#E5ECF6",
           "caxis": {
            "gridcolor": "white",
            "linecolor": "white",
            "ticks": ""
           }
          },
          "title": {
           "x": 0.05
          },
          "xaxis": {
           "automargin": true,
           "gridcolor": "white",
           "linecolor": "white",
           "ticks": "",
           "title": {
            "standoff": 15
           },
           "zerolinecolor": "white",
           "zerolinewidth": 2
          },
          "yaxis": {
           "automargin": true,
           "gridcolor": "white",
           "linecolor": "white",
           "ticks": "",
           "title": {
            "standoff": 15
           },
           "zerolinecolor": "white",
           "zerolinewidth": 2
          }
         }
        },
        "title": {
         "font": {
          "color": "orange",
          "family": "Times New Roman",
          "size": 30
         },
         "text": "Une diversité de discipline"
        }
       }
      },
      "text/html": [
       "<div>                            <div id=\"1455c715-2096-40c6-ac5c-09bdcd0638b2\" class=\"plotly-graph-div\" style=\"height:525px; width:100%;\"></div>            <script type=\"text/javascript\">                require([\"plotly\"], function(Plotly) {                    window.PLOTLYENV=window.PLOTLYENV || {};                                    if (document.getElementById(\"1455c715-2096-40c6-ac5c-09bdcd0638b2\")) {                    Plotly.newPlot(                        \"1455c715-2096-40c6-ac5c-09bdcd0638b2\",                        [{\"domain\":{\"x\":[0.0,1.0],\"y\":[0.0,1.0]},\"hovertemplate\":\"index=%{label}<br>disciplines_9niv=%{value}<extra></extra>\",\"labels\":[\"Sciences humaines\",\"Sciences sociales\",\"Math\\u00e9matiques, Informatiques\",\"Sciences du vivant\",\"Physique, Sciences de la terre et de l'Univers\",\"Science de l'ing\\u00e9nieur\",\"Chimie, Mat\\u00e9riaux\",\"Lettres et Arts\",\"M\\u00e9decine\"],\"legendgroup\":\"\",\"name\":\"\",\"showlegend\":true,\"values\":[274,161,138,138,103,91,59,58,54],\"type\":\"pie\"}],                        {\"template\":{\"data\":{\"bar\":[{\"error_x\":{\"color\":\"#2a3f5f\"},\"error_y\":{\"color\":\"#2a3f5f\"},\"marker\":{\"line\":{\"color\":\"#E5ECF6\",\"width\":0.5},\"pattern\":{\"fillmode\":\"overlay\",\"size\":10,\"solidity\":0.2}},\"type\":\"bar\"}],\"barpolar\":[{\"marker\":{\"line\":{\"color\":\"#E5ECF6\",\"width\":0.5},\"pattern\":{\"fillmode\":\"overlay\",\"size\":10,\"solidity\":0.2}},\"type\":\"barpolar\"}],\"carpet\":[{\"aaxis\":{\"endlinecolor\":\"#2a3f5f\",\"gridcolor\":\"white\",\"linecolor\":\"white\",\"minorgridcolor\":\"white\",\"startlinecolor\":\"#2a3f5f\"},\"baxis\":{\"endlinecolor\":\"#2a3f5f\",\"gridcolor\":\"white\",\"linecolor\":\"white\",\"minorgridcolor\":\"white\",\"startlinecolor\":\"#2a3f5f\"},\"type\":\"carpet\"}],\"choropleth\":[{\"colorbar\":{\"outlinewidth\":0,\"ticks\":\"\"},\"type\":\"choropleth\"}],\"contour\":[{\"colorbar\":{\"outlinewidth\":0,\"ticks\":\"\"},\"colorscale\":[[0.0,\"#0d0887\"],[0.1111111111111111,\"#46039f\"],[0.2222222222222222,\"#7201a8\"],[0.3333333333333333,\"#9c179e\"],[0.4444444444444444,\"#bd3786\"],[0.5555555555555556,\"#d8576b\"],[0.6666666666666666,\"#ed7953\"],[0.7777777777777778,\"#fb9f3a\"],[0.8888888888888888,\"#fdca26\"],[1.0,\"#f0f921\"]],\"type\":\"contour\"}],\"contourcarpet\":[{\"colorbar\":{\"outlinewidth\":0,\"ticks\":\"\"},\"type\":\"contourcarpet\"}],\"heatmap\":[{\"colorbar\":{\"outlinewidth\":0,\"ticks\":\"\"},\"colorscale\":[[0.0,\"#0d0887\"],[0.1111111111111111,\"#46039f\"],[0.2222222222222222,\"#7201a8\"],[0.3333333333333333,\"#9c179e\"],[0.4444444444444444,\"#bd3786\"],[0.5555555555555556,\"#d8576b\"],[0.6666666666666666,\"#ed7953\"],[0.7777777777777778,\"#fb9f3a\"],[0.8888888888888888,\"#fdca26\"],[1.0,\"#f0f921\"]],\"type\":\"heatmap\"}],\"heatmapgl\":[{\"colorbar\":{\"outlinewidth\":0,\"ticks\":\"\"},\"colorscale\":[[0.0,\"#0d0887\"],[0.1111111111111111,\"#46039f\"],[0.2222222222222222,\"#7201a8\"],[0.3333333333333333,\"#9c179e\"],[0.4444444444444444,\"#bd3786\"],[0.5555555555555556,\"#d8576b\"],[0.6666666666666666,\"#ed7953\"],[0.7777777777777778,\"#fb9f3a\"],[0.8888888888888888,\"#fdca26\"],[1.0,\"#f0f921\"]],\"type\":\"heatmapgl\"}],\"histogram\":[{\"marker\":{\"pattern\":{\"fillmode\":\"overlay\",\"size\":10,\"solidity\":0.2}},\"type\":\"histogram\"}],\"histogram2d\":[{\"colorbar\":{\"outlinewidth\":0,\"ticks\":\"\"},\"colorscale\":[[0.0,\"#0d0887\"],[0.1111111111111111,\"#46039f\"],[0.2222222222222222,\"#7201a8\"],[0.3333333333333333,\"#9c179e\"],[0.4444444444444444,\"#bd3786\"],[0.5555555555555556,\"#d8576b\"],[0.6666666666666666,\"#ed7953\"],[0.7777777777777778,\"#fb9f3a\"],[0.8888888888888888,\"#fdca26\"],[1.0,\"#f0f921\"]],\"type\":\"histogram2d\"}],\"histogram2dcontour\":[{\"colorbar\":{\"outlinewidth\":0,\"ticks\":\"\"},\"colorscale\":[[0.0,\"#0d0887\"],[0.1111111111111111,\"#46039f\"],[0.2222222222222222,\"#7201a8\"],[0.3333333333333333,\"#9c179e\"],[0.4444444444444444,\"#bd3786\"],[0.5555555555555556,\"#d8576b\"],[0.6666666666666666,\"#ed7953\"],[0.7777777777777778,\"#fb9f3a\"],[0.8888888888888888,\"#fdca26\"],[1.0,\"#f0f921\"]],\"type\":\"histogram2dcontour\"}],\"mesh3d\":[{\"colorbar\":{\"outlinewidth\":0,\"ticks\":\"\"},\"type\":\"mesh3d\"}],\"parcoords\":[{\"line\":{\"colorbar\":{\"outlinewidth\":0,\"ticks\":\"\"}},\"type\":\"parcoords\"}],\"pie\":[{\"automargin\":true,\"type\":\"pie\"}],\"scatter\":[{\"marker\":{\"colorbar\":{\"outlinewidth\":0,\"ticks\":\"\"}},\"type\":\"scatter\"}],\"scatter3d\":[{\"line\":{\"colorbar\":{\"outlinewidth\":0,\"ticks\":\"\"}},\"marker\":{\"colorbar\":{\"outlinewidth\":0,\"ticks\":\"\"}},\"type\":\"scatter3d\"}],\"scattercarpet\":[{\"marker\":{\"colorbar\":{\"outlinewidth\":0,\"ticks\":\"\"}},\"type\":\"scattercarpet\"}],\"scattergeo\":[{\"marker\":{\"colorbar\":{\"outlinewidth\":0,\"ticks\":\"\"}},\"type\":\"scattergeo\"}],\"scattergl\":[{\"marker\":{\"colorbar\":{\"outlinewidth\":0,\"ticks\":\"\"}},\"type\":\"scattergl\"}],\"scattermapbox\":[{\"marker\":{\"colorbar\":{\"outlinewidth\":0,\"ticks\":\"\"}},\"type\":\"scattermapbox\"}],\"scatterpolar\":[{\"marker\":{\"colorbar\":{\"outlinewidth\":0,\"ticks\":\"\"}},\"type\":\"scatterpolar\"}],\"scatterpolargl\":[{\"marker\":{\"colorbar\":{\"outlinewidth\":0,\"ticks\":\"\"}},\"type\":\"scatterpolargl\"}],\"scatterternary\":[{\"marker\":{\"colorbar\":{\"outlinewidth\":0,\"ticks\":\"\"}},\"type\":\"scatterternary\"}],\"surface\":[{\"colorbar\":{\"outlinewidth\":0,\"ticks\":\"\"},\"colorscale\":[[0.0,\"#0d0887\"],[0.1111111111111111,\"#46039f\"],[0.2222222222222222,\"#7201a8\"],[0.3333333333333333,\"#9c179e\"],[0.4444444444444444,\"#bd3786\"],[0.5555555555555556,\"#d8576b\"],[0.6666666666666666,\"#ed7953\"],[0.7777777777777778,\"#fb9f3a\"],[0.8888888888888888,\"#fdca26\"],[1.0,\"#f0f921\"]],\"type\":\"surface\"}],\"table\":[{\"cells\":{\"fill\":{\"color\":\"#EBF0F8\"},\"line\":{\"color\":\"white\"}},\"header\":{\"fill\":{\"color\":\"#C8D4E3\"},\"line\":{\"color\":\"white\"}},\"type\":\"table\"}]},\"layout\":{\"annotationdefaults\":{\"arrowcolor\":\"#2a3f5f\",\"arrowhead\":0,\"arrowwidth\":1},\"autotypenumbers\":\"strict\",\"coloraxis\":{\"colorbar\":{\"outlinewidth\":0,\"ticks\":\"\"}},\"colorscale\":{\"diverging\":[[0,\"#8e0152\"],[0.1,\"#c51b7d\"],[0.2,\"#de77ae\"],[0.3,\"#f1b6da\"],[0.4,\"#fde0ef\"],[0.5,\"#f7f7f7\"],[0.6,\"#e6f5d0\"],[0.7,\"#b8e186\"],[0.8,\"#7fbc41\"],[0.9,\"#4d9221\"],[1,\"#276419\"]],\"sequential\":[[0.0,\"#0d0887\"],[0.1111111111111111,\"#46039f\"],[0.2222222222222222,\"#7201a8\"],[0.3333333333333333,\"#9c179e\"],[0.4444444444444444,\"#bd3786\"],[0.5555555555555556,\"#d8576b\"],[0.6666666666666666,\"#ed7953\"],[0.7777777777777778,\"#fb9f3a\"],[0.8888888888888888,\"#fdca26\"],[1.0,\"#f0f921\"]],\"sequentialminus\":[[0.0,\"#0d0887\"],[0.1111111111111111,\"#46039f\"],[0.2222222222222222,\"#7201a8\"],[0.3333333333333333,\"#9c179e\"],[0.4444444444444444,\"#bd3786\"],[0.5555555555555556,\"#d8576b\"],[0.6666666666666666,\"#ed7953\"],[0.7777777777777778,\"#fb9f3a\"],[0.8888888888888888,\"#fdca26\"],[1.0,\"#f0f921\"]]},\"colorway\":[\"#636efa\",\"#EF553B\",\"#00cc96\",\"#ab63fa\",\"#FFA15A\",\"#19d3f3\",\"#FF6692\",\"#B6E880\",\"#FF97FF\",\"#FECB52\"],\"font\":{\"color\":\"#2a3f5f\"},\"geo\":{\"bgcolor\":\"white\",\"lakecolor\":\"white\",\"landcolor\":\"#E5ECF6\",\"showlakes\":true,\"showland\":true,\"subunitcolor\":\"white\"},\"hoverlabel\":{\"align\":\"left\"},\"hovermode\":\"closest\",\"mapbox\":{\"style\":\"light\"},\"paper_bgcolor\":\"white\",\"plot_bgcolor\":\"#E5ECF6\",\"polar\":{\"angularaxis\":{\"gridcolor\":\"white\",\"linecolor\":\"white\",\"ticks\":\"\"},\"bgcolor\":\"#E5ECF6\",\"radialaxis\":{\"gridcolor\":\"white\",\"linecolor\":\"white\",\"ticks\":\"\"}},\"scene\":{\"xaxis\":{\"backgroundcolor\":\"#E5ECF6\",\"gridcolor\":\"white\",\"gridwidth\":2,\"linecolor\":\"white\",\"showbackground\":true,\"ticks\":\"\",\"zerolinecolor\":\"white\"},\"yaxis\":{\"backgroundcolor\":\"#E5ECF6\",\"gridcolor\":\"white\",\"gridwidth\":2,\"linecolor\":\"white\",\"showbackground\":true,\"ticks\":\"\",\"zerolinecolor\":\"white\"},\"zaxis\":{\"backgroundcolor\":\"#E5ECF6\",\"gridcolor\":\"white\",\"gridwidth\":2,\"linecolor\":\"white\",\"showbackground\":true,\"ticks\":\"\",\"zerolinecolor\":\"white\"}},\"shapedefaults\":{\"line\":{\"color\":\"#2a3f5f\"}},\"ternary\":{\"aaxis\":{\"gridcolor\":\"white\",\"linecolor\":\"white\",\"ticks\":\"\"},\"baxis\":{\"gridcolor\":\"white\",\"linecolor\":\"white\",\"ticks\":\"\"},\"bgcolor\":\"#E5ECF6\",\"caxis\":{\"gridcolor\":\"white\",\"linecolor\":\"white\",\"ticks\":\"\"}},\"title\":{\"x\":0.05},\"xaxis\":{\"automargin\":true,\"gridcolor\":\"white\",\"linecolor\":\"white\",\"ticks\":\"\",\"title\":{\"standoff\":15},\"zerolinecolor\":\"white\",\"zerolinewidth\":2},\"yaxis\":{\"automargin\":true,\"gridcolor\":\"white\",\"linecolor\":\"white\",\"ticks\":\"\",\"title\":{\"standoff\":15},\"zerolinecolor\":\"white\",\"zerolinewidth\":2}}},\"legend\":{\"tracegroupgap\":0},\"title\":{\"text\":\"Une diversit\\u00e9 de discipline\",\"font\":{\"family\":\"Times New Roman\",\"color\":\"orange\",\"size\":30}},\"font\":{\"family\":\"Courier New\",\"color\":\"blue\"}},                        {\"responsive\": true}                    ).then(function(){\n",
       "                            \n",
       "var gd = document.getElementById('1455c715-2096-40c6-ac5c-09bdcd0638b2');\n",
       "var x = new MutationObserver(function (mutations, observer) {{\n",
       "        var display = window.getComputedStyle(gd).display;\n",
       "        if (!display || display === 'none') {{\n",
       "            console.log([gd, 'removed!']);\n",
       "            Plotly.purge(gd);\n",
       "            observer.disconnect();\n",
       "        }}\n",
       "}});\n",
       "\n",
       "// Listen for the removal of the full notebook cells\n",
       "var notebookContainer = gd.closest('#notebook-container');\n",
       "if (notebookContainer) {{\n",
       "    x.observe(notebookContainer, {childList: true});\n",
       "}}\n",
       "\n",
       "// Listen for the clearing of the current output cell\n",
       "var outputEl = gd.closest('.output');\n",
       "if (outputEl) {{\n",
       "    x.observe(outputEl, {childList: true});\n",
       "}}\n",
       "\n",
       "                        })                };                });            </script>        </div>"
      ]
     },
     "metadata": {},
     "output_type": "display_data"
    }
   ],
   "source": [
    "# Installer et importer une nouvelle bibliothèque !pip install plotly\n",
    "import plotly.express as px\n",
    "\n",
    "# Permettre l'affichage dans les slides\n",
    "import plotly\n",
    "plotly.offline.init_notebook_mode(connected=True)\n",
    "\n",
    "# Afficher et compléter\n",
    "df = pd.DataFrame(data[\"disciplines_9niv\"].value_counts()) # Construction des données\n",
    "fig = px.pie(df,names=df.index,values=\"disciplines_9niv\", title='Une diversité de discipline')\n",
    "fig.update_layout(font_family=\"Courier New\", font_color=\"blue\", title_font_family=\"Times New Roman\",\n",
    "                  title_font_color=\"orange\", title_font_size=30)\n",
    "fig.show()"
   ]
  },
  {
   "cell_type": "markdown",
   "id": "e96633f1",
   "metadata": {},
   "source": [
    "Aller plus loin : paramétrer chaque élément affiché, etc."
   ]
  },
  {
   "cell_type": "markdown",
   "id": "de971c40",
   "metadata": {
    "slideshow": {
     "slide_type": "slide"
    }
   },
   "source": [
    "## 3. Nouveaux résultats\n",
    "\n",
    "Une fois que les données sont chargées, il est non seulement possible de refaire le traitement du rapport mais aussi d'aller plus loin. C'est la beauté de la science ouverte -> chercher nos propres résultats"
   ]
  },
  {
   "cell_type": "markdown",
   "id": "5a9f2561",
   "metadata": {},
   "source": [
    "### 3.1 Nouvelles explorations"
   ]
  },
  {
   "cell_type": "markdown",
   "id": "7d841cbb",
   "metadata": {},
   "source": [
    "Une réflexion : de quelles générations sont les répondants (notre échantillon n'étant pas représentatif, on va se retrouver avec des données \"structurées\" des personnes se sentant \"concernées\", ce qui nous indique aussi des anciennetés de réflexion sur les questions du numérique"
   ]
  },
  {
   "cell_type": "code",
   "execution_count": 14,
   "id": "61af9fb6",
   "metadata": {
    "slideshow": {
     "slide_type": "slide"
    }
   },
   "outputs": [
    {
     "data": {
      "text/plain": [
       "<AxesSubplot:title={'center':'annee_premiere_publi'}, xlabel='disciplines_9niv'>"
      ]
     },
     "execution_count": 14,
     "metadata": {},
     "output_type": "execute_result"
    },
    {
     "data": {
      "image/png": "[encoded data removed]",
      "text/plain": [
       "<Figure size 1008x360 with 1 Axes>"
      ]
     },
     "metadata": {
      "needs_background": "light"
     },
     "output_type": "display_data"
    }
   ],
   "source": [
    "data.boxplot(column='annee_premiere_publi',by='disciplines_9niv',\n",
    "             figsize=(14,5),rot=90,showmeans=True)\n"
   ]
  },
  {
   "cell_type": "markdown",
   "id": "643cba3e",
   "metadata": {
    "slideshow": {
     "slide_type": "slide"
    }
   },
   "source": [
    "Possibilité même de faire quelque chose de plus joli avec Seaborn (une autre bibliothèque graphique)"
   ]
  },
  {
   "cell_type": "code",
   "execution_count": 15,
   "id": "cd1d0d86",
   "metadata": {},
   "outputs": [
    {
     "data": {
      "image/png": "[encoded data removed]",
      "text/plain": [
       "<Figure size 720x360 with 1 Axes>"
      ]
     },
     "metadata": {
      "needs_background": "light"
     },
     "output_type": "display_data"
    }
   ],
   "source": [
    "import seaborn as sns\n",
    "import matplotlib.pyplot as plt\n",
    "\n",
    "fig,ax = plt.subplots(figsize=(10,5))\n",
    "sns.violinplot(x=\"disciplines_9niv\", y=\"annee_premiere_publi\", data=data,ax=ax, palette=\"Blues\")\n",
    "plt.xticks(rotation=45)\n",
    "plt.title(\"Distribution des premières années de publication\")\n",
    "plt.show()"
   ]
  },
  {
   "cell_type": "markdown",
   "id": "7bcf1824",
   "metadata": {
    "slideshow": {
     "slide_type": "slide"
    }
   },
   "source": [
    "### 3.1 Une question précise : usage de R & de Python"
   ]
  },
  {
   "cell_type": "markdown",
   "id": "69f28311",
   "metadata": {},
   "source": [
    "Se concentrer sur les champs explicites d'un logiciel qui désigne le processus de travail\n",
    "\n",
    "- logiciel_production_donnees\n",
    "- outils_nettoyage\n",
    "- Outils_analyses\n",
    "- Outils_visualisation\n",
    "\n",
    "(remarque en passant -> le nom des variables pourrait être mieux normalisé)"
   ]
  },
  {
   "cell_type": "markdown",
   "id": "4bba3c67",
   "metadata": {},
   "source": [
    "Opérations  que nous souhaitons faire\n",
    "\n",
    "1. Regrouper les champs\n",
    "2. Détecter la présence\n",
    "\n",
    "Faire une analyse des principales réponses et construire une heuristique de détection : facile pour Python ou Excel, difficile pour R..."
   ]
  },
  {
   "cell_type": "code",
   "execution_count": 16,
   "id": "eb95cd0d",
   "metadata": {
    "slideshow": {
     "slide_type": "slide"
    }
   },
   "outputs": [],
   "source": [
    "# Définir la liste des colonnes concernées\n",
    "var = [\"logiciel_production_donnees\",\"outils_nettoyage\",\"Outils_analyses\",\"Outils_visualisation\"]\n",
    "\n",
    "#Regrouper toutes les informations dans un seul champ\n",
    "data[\"outils\"] = data[var].fillna(\"\").apply(' '.join, axis=1)\n",
    "#data[\"outils\"] = data.apply(lambda x : \" \".join([x[i] for i in var if pd.notnull(x[i])]),axis=1)\n",
    "\n",
    "data[\"outils\"] = data[\"outils\"].replace({\"\":None})"
   ]
  },
  {
   "cell_type": "code",
   "execution_count": 17,
   "id": "f9266676",
   "metadata": {},
   "outputs": [
    {
     "data": {
      "text/plain": [
       "Word                                                                                                                          13\n",
       "Aucun                                                                                                                          6\n",
       "word                                                                                                                           5\n",
       "Excel                                                                                                                          4\n",
       "aucun                                                                                                                          4\n",
       "                                                                                                                              ..\n",
       "word, excel, filmaker, qgis, photoscan                                                                                         1\n",
       "J'utilise mes propres codes.\\nParfois octave ou matlab. Mes propres codes\\ngawk Mes propres outils. gnuplot\\nxgraph\\nxgobi     1\n",
       "Surtout Excel  XLstat, outils maison Excel                                                                                     1\n",
       "word, illustrator, exel CCleaner                                                                                               1\n",
       " R, Excel R, MPlus, Stata, SAS, Excel R                                                                                        1\n",
       "Name: outils, Length: 1047, dtype: int64"
      ]
     },
     "execution_count": 17,
     "metadata": {},
     "output_type": "execute_result"
    }
   ],
   "source": [
    "data[\"outils\"].value_counts()"
   ]
  },
  {
   "cell_type": "markdown",
   "id": "a2611ad5",
   "metadata": {
    "slideshow": {
     "slide_type": "slide"
    }
   },
   "source": [
    "Définition d'heuristiques de détection (à améliorer potentiellement) pour détecter la présence : c'est la cuisine... et il vaut mieux connaître ses données pour cela"
   ]
  },
  {
   "cell_type": "code",
   "execution_count": 18,
   "id": "75b3f59e",
   "metadata": {},
   "outputs": [],
   "source": [
    "data[\"outils_R\"] = data[\"outils\"].str.contains(\"R,| R|R |\\nR|R | r | r,|,r \")\n",
    "data[\"outils_Python\"] = data[\"outils\"].str.lower().str.contains(\"python|pyton\")\n",
    "data[\"outils_Excel\"] = data[\"outils\"].str.lower().str.contains(\"excel|exel\")\n",
    "data[\"outils_Word\"] = data[\"outils\"].str.lower().str.contains(\"word\")\n",
    "data[\"outils_Matlab\"] = data[\"outils\"].str.lower().str.contains(\"matlab\")"
   ]
  },
  {
   "cell_type": "markdown",
   "id": "cdc99375",
   "metadata": {},
   "source": [
    "Création d'un tableau exploratoire"
   ]
  },
  {
   "cell_type": "code",
   "execution_count": 19,
   "id": "faab8de7",
   "metadata": {},
   "outputs": [
    {
     "data": {
      "text/html": [
       "<div>\n",
       "<style scoped>\n",
       "    .dataframe tbody tr th:only-of-type {\n",
       "        vertical-align: middle;\n",
       "    }\n",
       "\n",
       "    .dataframe tbody tr th {\n",
       "        vertical-align: top;\n",
       "    }\n",
       "\n",
       "    .dataframe thead th {\n",
       "        text-align: right;\n",
       "    }\n",
       "</style>\n",
       "<table border=\"1\" class=\"dataframe\">\n",
       "  <thead>\n",
       "    <tr style=\"text-align: right;\">\n",
       "      <th></th>\n",
       "      <th>Effectif</th>\n",
       "      <th>Pourcentage (%)</th>\n",
       "    </tr>\n",
       "  </thead>\n",
       "  <tbody>\n",
       "    <tr>\n",
       "      <th>False</th>\n",
       "      <td>816.0</td>\n",
       "      <td>74.9</td>\n",
       "    </tr>\n",
       "    <tr>\n",
       "      <th>True</th>\n",
       "      <td>273.0</td>\n",
       "      <td>25.1</td>\n",
       "    </tr>\n",
       "    <tr>\n",
       "      <th>Total</th>\n",
       "      <td>1089.0</td>\n",
       "      <td>100.0</td>\n",
       "    </tr>\n",
       "  </tbody>\n",
       "</table>\n",
       "</div>"
      ],
      "text/plain": [
       "       Effectif  Pourcentage (%)\n",
       "False     816.0             74.9\n",
       "True      273.0             25.1\n",
       "Total    1089.0            100.0"
      ]
     },
     "execution_count": 19,
     "metadata": {},
     "output_type": "execute_result"
    }
   ],
   "source": [
    "pyshs.tri_a_plat(data,\"outils_R\")"
   ]
  },
  {
   "cell_type": "markdown",
   "id": "cbee65b5",
   "metadata": {
    "slideshow": {
     "slide_type": "slide"
    }
   },
   "source": [
    "Explorer aussi visuellement"
   ]
  },
  {
   "cell_type": "code",
   "execution_count": 20,
   "id": "33d72677",
   "metadata": {},
   "outputs": [
    {
     "data": {
      "text/plain": [
       "<AxesSubplot:title={'center':'Usage Excel'}>"
      ]
     },
     "execution_count": 20,
     "metadata": {},
     "output_type": "execute_result"
    },
    {
     "data": {
      "image/png": "[encoded data removed]",
      "text/plain": [
       "<Figure size 432x288 with 1 Axes>"
      ]
     },
     "metadata": {
      "needs_background": "light"
     },
     "output_type": "display_data"
    }
   ],
   "source": [
    "pyshs.tri_a_plat(data,\"outils_Excel\")[\"Pourcentage (%)\"].drop(\"Total\").plot(kind=\"bar\",title=\"Usage Excel\")"
   ]
  },
  {
   "cell_type": "markdown",
   "id": "71bc0ab4",
   "metadata": {
    "slideshow": {
     "slide_type": "slide"
    }
   },
   "source": [
    "Tableau un peu plus finalisé : créer la structure de données et la transformer en tableau (magie de Pandas)"
   ]
  },
  {
   "cell_type": "code",
   "execution_count": 21,
   "id": "ef9a15ff",
   "metadata": {
    "scrolled": true
   },
   "outputs": [
    {
     "data": {
      "text/html": [
       "<div>\n",
       "<style scoped>\n",
       "    .dataframe tbody tr th:only-of-type {\n",
       "        vertical-align: middle;\n",
       "    }\n",
       "\n",
       "    .dataframe tbody tr th {\n",
       "        vertical-align: top;\n",
       "    }\n",
       "\n",
       "    .dataframe thead tr th {\n",
       "        text-align: left;\n",
       "    }\n",
       "</style>\n",
       "<table border=\"1\" class=\"dataframe\">\n",
       "  <thead>\n",
       "    <tr>\n",
       "      <th></th>\n",
       "      <th colspan=\"2\" halign=\"left\">Excel</th>\n",
       "      <th colspan=\"2\" halign=\"left\">R</th>\n",
       "      <th colspan=\"2\" halign=\"left\">Python</th>\n",
       "      <th colspan=\"2\" halign=\"left\">Matlab</th>\n",
       "    </tr>\n",
       "    <tr>\n",
       "      <th></th>\n",
       "      <th>Effectif</th>\n",
       "      <th>Pourcentage (%)</th>\n",
       "      <th>Effectif</th>\n",
       "      <th>Pourcentage (%)</th>\n",
       "      <th>Effectif</th>\n",
       "      <th>Pourcentage (%)</th>\n",
       "      <th>Effectif</th>\n",
       "      <th>Pourcentage (%)</th>\n",
       "    </tr>\n",
       "  </thead>\n",
       "  <tbody>\n",
       "    <tr>\n",
       "      <th>False</th>\n",
       "      <td>732.0</td>\n",
       "      <td>67.2</td>\n",
       "      <td>816.0</td>\n",
       "      <td>74.9</td>\n",
       "      <td>921.0</td>\n",
       "      <td>84.6</td>\n",
       "      <td>975.0</td>\n",
       "      <td>89.5</td>\n",
       "    </tr>\n",
       "    <tr>\n",
       "      <th>True</th>\n",
       "      <td>357.0</td>\n",
       "      <td>32.8</td>\n",
       "      <td>273.0</td>\n",
       "      <td>25.1</td>\n",
       "      <td>168.0</td>\n",
       "      <td>15.4</td>\n",
       "      <td>114.0</td>\n",
       "      <td>10.5</td>\n",
       "    </tr>\n",
       "    <tr>\n",
       "      <th>Total</th>\n",
       "      <td>1089.0</td>\n",
       "      <td>100.0</td>\n",
       "      <td>1089.0</td>\n",
       "      <td>100.0</td>\n",
       "      <td>1089.0</td>\n",
       "      <td>100.0</td>\n",
       "      <td>1089.0</td>\n",
       "      <td>100.0</td>\n",
       "    </tr>\n",
       "  </tbody>\n",
       "</table>\n",
       "</div>"
      ],
      "text/plain": [
       "         Excel                        R                   Python  \\\n",
       "      Effectif Pourcentage (%) Effectif Pourcentage (%) Effectif   \n",
       "False    732.0            67.2    816.0            74.9    921.0   \n",
       "True     357.0            32.8    273.0            25.1    168.0   \n",
       "Total   1089.0           100.0   1089.0           100.0   1089.0   \n",
       "\n",
       "                        Matlab                  \n",
       "      Pourcentage (%) Effectif Pourcentage (%)  \n",
       "False            84.6    975.0            89.5  \n",
       "True             15.4    114.0            10.5  \n",
       "Total           100.0   1089.0           100.0  "
      ]
     },
     "execution_count": 21,
     "metadata": {},
     "output_type": "execute_result"
    }
   ],
   "source": [
    "outils = {\n",
    "\"Excel\":pyshs.tri_a_plat(data,\"outils_Excel\"),\n",
    "\"R\":pyshs.tri_a_plat(data,\"outils_R\"),\n",
    "\"Python\":pyshs.tri_a_plat(data,\"outils_Python\"),\n",
    "\"Matlab\":pyshs.tri_a_plat(data,\"outils_Matlab\"), \n",
    "         }\n",
    "\n",
    "tab = pd.concat(outils,axis=1)\n",
    "tab"
   ]
  },
  {
   "cell_type": "markdown",
   "id": "f741fd0e",
   "metadata": {
    "slideshow": {
     "slide_type": "slide"
    }
   },
   "source": [
    "Tableau croisé"
   ]
  },
  {
   "cell_type": "code",
   "execution_count": 22,
   "id": "2452ff6b",
   "metadata": {},
   "outputs": [
    {
     "data": {
      "text/html": [
       "<div>\n",
       "<style scoped>\n",
       "    .dataframe tbody tr th:only-of-type {\n",
       "        vertical-align: middle;\n",
       "    }\n",
       "\n",
       "    .dataframe tbody tr th {\n",
       "        vertical-align: top;\n",
       "    }\n",
       "\n",
       "    .dataframe thead th {\n",
       "        text-align: right;\n",
       "    }\n",
       "</style>\n",
       "<table border=\"1\" class=\"dataframe\">\n",
       "  <thead>\n",
       "    <tr style=\"text-align: right;\">\n",
       "      <th></th>\n",
       "      <th>False</th>\n",
       "      <th>True</th>\n",
       "      <th>Total</th>\n",
       "    </tr>\n",
       "  </thead>\n",
       "  <tbody>\n",
       "    <tr>\n",
       "      <th>Chimie, Matériaux</th>\n",
       "      <td>55 (93.2%)</td>\n",
       "      <td>4 (6.8%)</td>\n",
       "      <td>59 (100%)</td>\n",
       "    </tr>\n",
       "    <tr>\n",
       "      <th>Lettres et Arts</th>\n",
       "      <td>54 (93.1%)</td>\n",
       "      <td>4 (6.9%)</td>\n",
       "      <td>58 (100%)</td>\n",
       "    </tr>\n",
       "    <tr>\n",
       "      <th>Mathématiques, Informatiques</th>\n",
       "      <td>94 (68.1%)</td>\n",
       "      <td>44 (31.9%)</td>\n",
       "      <td>138 (100%)</td>\n",
       "    </tr>\n",
       "    <tr>\n",
       "      <th>Médecine</th>\n",
       "      <td>48 (88.9%)</td>\n",
       "      <td>6 (11.1%)</td>\n",
       "      <td>54 (100%)</td>\n",
       "    </tr>\n",
       "    <tr>\n",
       "      <th>Physique, Sciences de la terre et de l'Univers</th>\n",
       "      <td>60 (58.3%)</td>\n",
       "      <td>43 (41.7%)</td>\n",
       "      <td>103 (100%)</td>\n",
       "    </tr>\n",
       "    <tr>\n",
       "      <th>Science de l'ingénieur</th>\n",
       "      <td>59 (64.8%)</td>\n",
       "      <td>32 (35.2%)</td>\n",
       "      <td>91 (100%)</td>\n",
       "    </tr>\n",
       "    <tr>\n",
       "      <th>Sciences du vivant</th>\n",
       "      <td>125 (90.6%)</td>\n",
       "      <td>13 (9.4%)</td>\n",
       "      <td>138 (100%)</td>\n",
       "    </tr>\n",
       "    <tr>\n",
       "      <th>Sciences humaines</th>\n",
       "      <td>260 (94.9%)</td>\n",
       "      <td>14 (5.1%)</td>\n",
       "      <td>274 (100%)</td>\n",
       "    </tr>\n",
       "    <tr>\n",
       "      <th>Sciences sociales</th>\n",
       "      <td>153 (95.0%)</td>\n",
       "      <td>8 (5.0%)</td>\n",
       "      <td>161 (100%)</td>\n",
       "    </tr>\n",
       "    <tr>\n",
       "      <th>Total</th>\n",
       "      <td>908 (84.4%)</td>\n",
       "      <td>168 (15.6%)</td>\n",
       "      <td>1076 (100%)</td>\n",
       "    </tr>\n",
       "  </tbody>\n",
       "</table>\n",
       "</div>"
      ],
      "text/plain": [
       "                                                      False         True  \\\n",
       "Chimie, Matériaux                                55 (93.2%)     4 (6.8%)   \n",
       "Lettres et Arts                                  54 (93.1%)     4 (6.9%)   \n",
       "Mathématiques, Informatiques                     94 (68.1%)   44 (31.9%)   \n",
       "Médecine                                         48 (88.9%)    6 (11.1%)   \n",
       "Physique, Sciences de la terre et de l'Univers   60 (58.3%)   43 (41.7%)   \n",
       "Science de l'ingénieur                           59 (64.8%)   32 (35.2%)   \n",
       "Sciences du vivant                              125 (90.6%)    13 (9.4%)   \n",
       "Sciences humaines                               260 (94.9%)    14 (5.1%)   \n",
       "Sciences sociales                               153 (95.0%)     8 (5.0%)   \n",
       "Total                                           908 (84.4%)  168 (15.6%)   \n",
       "\n",
       "                                                      Total  \n",
       "Chimie, Matériaux                                 59 (100%)  \n",
       "Lettres et Arts                                   58 (100%)  \n",
       "Mathématiques, Informatiques                     138 (100%)  \n",
       "Médecine                                          54 (100%)  \n",
       "Physique, Sciences de la terre et de l'Univers   103 (100%)  \n",
       "Science de l'ingénieur                            91 (100%)  \n",
       "Sciences du vivant                               138 (100%)  \n",
       "Sciences humaines                                274 (100%)  \n",
       "Sciences sociales                                161 (100%)  \n",
       "Total                                           1076 (100%)  "
      ]
     },
     "execution_count": 22,
     "metadata": {},
     "output_type": "execute_result"
    }
   ],
   "source": [
    "pyshs.tableau_croise(data,\"disciplines_9niv\",\"outils_Python\")"
   ]
  },
  {
   "cell_type": "markdown",
   "id": "0e70ef83",
   "metadata": {
    "slideshow": {
     "slide_type": "slide"
    }
   },
   "source": [
    "Création d'une visualisation"
   ]
  },
  {
   "cell_type": "code",
   "execution_count": 23,
   "id": "3f2e5464",
   "metadata": {},
   "outputs": [
    {
     "data": {
      "image/png": "[encoded data removed]",
      "text/plain": [
       "<Figure size 720x288 with 1 Axes>"
      ]
     },
     "metadata": {
      "needs_background": "light"
     },
     "output_type": "display_data"
    }
   ],
   "source": [
    "pd.crosstab(data[\"outils_Python\"],data[\"disciplines_9niv\"],\n",
    "            normalize=\"columns\").T.plot(kind=\"barh\",figsize=(10,4))\n",
    "\n",
    "# compléter et sauvegarder la figure\n",
    "plt.ylabel(\"\")\n",
    "plt.xlabel(\"Fréquence\")\n",
    "plt.tight_layout()\n",
    "plt.savefig(\"fig.png\",dpi=300)"
   ]
  },
  {
   "cell_type": "markdown",
   "id": "c8d2f6e2",
   "metadata": {
    "slideshow": {
     "slide_type": "slide"
    }
   },
   "source": [
    "#### Visualisation juxtaposée (un peu) finalisée avec la grammaire des figures de Matplotlib (grille de figures, etc.)"
   ]
  },
  {
   "cell_type": "code",
   "execution_count": 24,
   "id": "dd52f215",
   "metadata": {
    "slideshow": {
     "slide_type": "-"
    }
   },
   "outputs": [
    {
     "data": {
      "image/png": "[encoded data removed]",
      "text/plain": [
       "<Figure size 720x720 with 4 Axes>"
      ]
     },
     "metadata": {
      "needs_background": "light"
     },
     "output_type": "display_data"
    }
   ],
   "source": [
    "info = {\"Python\":\"outils_Python\",\"R\":\"outils_R\",\"Matlab\":\"outils_Matlab\",\"Excel\":\"outils_Excel\"}\n",
    "fig,ax = plt.subplots(2,2,figsize=(10,10),sharey=True,sharex=True)\n",
    "plt.suptitle(\"Usage de langages pour le traitement numérique de données\")\n",
    "for graph,i in zip(ax.flatten(),info):\n",
    "    tab = (100*pd.crosstab(data[info[i]],data[\"disciplines_9niv\"],normalize=\"columns\"))\n",
    "    tab.T.plot(kind=\"barh\",ax=graph, legend=False,color=[\"#005073\",\"#71c7ec\"])    \n",
    "    graph.set_ylabel(\"\")\n",
    "    graph.set_xlabel(\"% répondants\")\n",
    "    graph.set_title(i)\n",
    "plt.legend(title='Légende',labels=[\"Faux\",\"Vrai\"], bbox_to_anchor=(1.1, 1), loc='upper left')\n",
    "plt.savefig(\"fig.png\",dpi=300,bbox_inches='tight')"
   ]
  },
  {
   "cell_type": "markdown",
   "id": "14bc512c",
   "metadata": {
    "slideshow": {
     "slide_type": "slide"
    }
   },
   "source": [
    "### 3.2 Allez plus loin\n",
    "\n",
    "\n",
    "#### Modèle : régression logistique\n",
    "\n",
    "Les facteurs qui pèsent sur l'usage de Python"
   ]
  },
  {
   "cell_type": "code",
   "execution_count": 25,
   "id": "bc484f43",
   "metadata": {},
   "outputs": [
    {
     "data": {
      "text/html": [
       "<div>\n",
       "<style scoped>\n",
       "    .dataframe tbody tr th:only-of-type {\n",
       "        vertical-align: middle;\n",
       "    }\n",
       "\n",
       "    .dataframe tbody tr th {\n",
       "        vertical-align: top;\n",
       "    }\n",
       "\n",
       "    .dataframe thead th {\n",
       "        text-align: right;\n",
       "    }\n",
       "</style>\n",
       "<table border=\"1\" class=\"dataframe\">\n",
       "  <thead>\n",
       "    <tr style=\"text-align: right;\">\n",
       "      <th></th>\n",
       "      <th></th>\n",
       "      <th>Odds Ratio</th>\n",
       "      <th>p</th>\n",
       "      <th>IC 95%</th>\n",
       "    </tr>\n",
       "    <tr>\n",
       "      <th>Variable</th>\n",
       "      <th>Modalité</th>\n",
       "      <th></th>\n",
       "      <th></th>\n",
       "      <th></th>\n",
       "    </tr>\n",
       "  </thead>\n",
       "  <tbody>\n",
       "    <tr>\n",
       "      <th>.Intercept</th>\n",
       "      <th></th>\n",
       "      <td>0.09</td>\n",
       "      <td>0.001**</td>\n",
       "      <td>0.09 [0.02-0.36]</td>\n",
       "    </tr>\n",
       "    <tr>\n",
       "      <th rowspan=\"10\" valign=\"top\">Age</th>\n",
       "      <th>25 à 30 ans</th>\n",
       "      <td>ref</td>\n",
       "      <td></td>\n",
       "      <td></td>\n",
       "    </tr>\n",
       "    <tr>\n",
       "      <th>31 à 35 ans</th>\n",
       "      <td>0.87</td>\n",
       "      <td>0.717</td>\n",
       "      <td>0.87 [0.42-1.81]</td>\n",
       "    </tr>\n",
       "    <tr>\n",
       "      <th>36 à 40 ans</th>\n",
       "      <td>1.19</td>\n",
       "      <td>0.6</td>\n",
       "      <td>1.19 [0.62-2.30]</td>\n",
       "    </tr>\n",
       "    <tr>\n",
       "      <th>41 à 45 ans</th>\n",
       "      <td>0.67</td>\n",
       "      <td>0.249</td>\n",
       "      <td>0.67 [0.34-1.32]</td>\n",
       "    </tr>\n",
       "    <tr>\n",
       "      <th>46 à 50 ans</th>\n",
       "      <td>0.59</td>\n",
       "      <td>0.131</td>\n",
       "      <td>0.59 [0.30-1.17]</td>\n",
       "    </tr>\n",
       "    <tr>\n",
       "      <th>51 à 55 ans</th>\n",
       "      <td>0.46</td>\n",
       "      <td>0.051</td>\n",
       "      <td>0.46 [0.21-1.00]</td>\n",
       "    </tr>\n",
       "    <tr>\n",
       "      <th>56 à 60 ans</th>\n",
       "      <td>0.48</td>\n",
       "      <td>0.076</td>\n",
       "      <td>0.48 [0.21-1.08]</td>\n",
       "    </tr>\n",
       "    <tr>\n",
       "      <th>61 à 65 ans</th>\n",
       "      <td>0.14</td>\n",
       "      <td>0.004**</td>\n",
       "      <td>0.14 [0.04-0.54]</td>\n",
       "    </tr>\n",
       "    <tr>\n",
       "      <th>66 ans et plus</th>\n",
       "      <td>0.24</td>\n",
       "      <td>0.083</td>\n",
       "      <td>0.24 [0.05-1.20]</td>\n",
       "    </tr>\n",
       "    <tr>\n",
       "      <th>moins de 25 ans</th>\n",
       "      <td>1.01</td>\n",
       "      <td>0.986</td>\n",
       "      <td>1.01 [0.36-2.81]</td>\n",
       "    </tr>\n",
       "    <tr>\n",
       "      <th rowspan=\"9\" valign=\"top\">Discipline</th>\n",
       "      <th>Chimie, Matériaux</th>\n",
       "      <td>ref</td>\n",
       "      <td></td>\n",
       "      <td></td>\n",
       "    </tr>\n",
       "    <tr>\n",
       "      <th>Lettres et Arts</th>\n",
       "      <td>1.14</td>\n",
       "      <td>0.857</td>\n",
       "      <td>1.14 [0.27-4.88]</td>\n",
       "    </tr>\n",
       "    <tr>\n",
       "      <th>Mathématiques, Informatiques</th>\n",
       "      <td>7.17</td>\n",
       "      <td>0.0***</td>\n",
       "      <td>7.17 [2.41-21.34]</td>\n",
       "    </tr>\n",
       "    <tr>\n",
       "      <th>Médecine</th>\n",
       "      <td>1.73</td>\n",
       "      <td>0.424</td>\n",
       "      <td>1.73 [0.45-6.60]</td>\n",
       "    </tr>\n",
       "    <tr>\n",
       "      <th>Physique, Sciences de la terre et de l'Univers</th>\n",
       "      <td>12.39</td>\n",
       "      <td>0.0***</td>\n",
       "      <td>12.39 [4.09-37.55]</td>\n",
       "    </tr>\n",
       "    <tr>\n",
       "      <th>Science de l'ingénieur</th>\n",
       "      <td>7.7</td>\n",
       "      <td>0.0***</td>\n",
       "      <td>7.70 [2.52-23.51]</td>\n",
       "    </tr>\n",
       "    <tr>\n",
       "      <th>Sciences du vivant</th>\n",
       "      <td>1.66</td>\n",
       "      <td>0.402</td>\n",
       "      <td>1.66 [0.51-5.37]</td>\n",
       "    </tr>\n",
       "    <tr>\n",
       "      <th>Sciences humaines</th>\n",
       "      <td>0.79</td>\n",
       "      <td>0.686</td>\n",
       "      <td>0.79 [0.25-2.51]</td>\n",
       "    </tr>\n",
       "    <tr>\n",
       "      <th>Sciences sociales</th>\n",
       "      <td>0.71</td>\n",
       "      <td>0.589</td>\n",
       "      <td>0.71 [0.20-2.47]</td>\n",
       "    </tr>\n",
       "    <tr>\n",
       "      <th rowspan=\"3\" valign=\"top\">Genre</th>\n",
       "      <th>je ne souhaite pas répondre</th>\n",
       "      <td>ref</td>\n",
       "      <td></td>\n",
       "      <td></td>\n",
       "    </tr>\n",
       "    <tr>\n",
       "      <th>un homme</th>\n",
       "      <td>1.01</td>\n",
       "      <td>0.988</td>\n",
       "      <td>1.01 [0.37-2.71]</td>\n",
       "    </tr>\n",
       "    <tr>\n",
       "      <th>une femme</th>\n",
       "      <td>1.28</td>\n",
       "      <td>0.627</td>\n",
       "      <td>1.28 [0.48-3.43]</td>\n",
       "    </tr>\n",
       "  </tbody>\n",
       "</table>\n",
       "</div>"
      ],
      "text/plain": [
       "                                                          Odds Ratio        p  \\\n",
       "Variable   Modalité                                                             \n",
       ".Intercept                                                      0.09  0.001**   \n",
       "Age        25 à 30 ans                                           ref            \n",
       "           31 à 35 ans                                          0.87    0.717   \n",
       "           36 à 40 ans                                          1.19      0.6   \n",
       "           41 à 45 ans                                          0.67    0.249   \n",
       "           46 à 50 ans                                          0.59    0.131   \n",
       "           51 à 55 ans                                          0.46    0.051   \n",
       "           56 à 60 ans                                          0.48    0.076   \n",
       "           61 à 65 ans                                          0.14  0.004**   \n",
       "           66 ans et plus                                       0.24    0.083   \n",
       "           moins de 25 ans                                      1.01    0.986   \n",
       "Discipline Chimie, Matériaux                                     ref            \n",
       "           Lettres et Arts                                      1.14    0.857   \n",
       "           Mathématiques, Informatiques                         7.17   0.0***   \n",
       "           Médecine                                             1.73    0.424   \n",
       "           Physique, Sciences de la terre et de l'Univers      12.39   0.0***   \n",
       "           Science de l'ingénieur                                7.7   0.0***   \n",
       "           Sciences du vivant                                   1.66    0.402   \n",
       "           Sciences humaines                                    0.79    0.686   \n",
       "           Sciences sociales                                    0.71    0.589   \n",
       "Genre      je ne souhaite pas répondre                           ref            \n",
       "           un homme                                             1.01    0.988   \n",
       "           une femme                                            1.28    0.627   \n",
       "\n",
       "                                                                       IC 95%  \n",
       "Variable   Modalité                                                            \n",
       ".Intercept                                                   0.09 [0.02-0.36]  \n",
       "Age        25 à 30 ans                                                         \n",
       "           31 à 35 ans                                       0.87 [0.42-1.81]  \n",
       "           36 à 40 ans                                       1.19 [0.62-2.30]  \n",
       "           41 à 45 ans                                       0.67 [0.34-1.32]  \n",
       "           46 à 50 ans                                       0.59 [0.30-1.17]  \n",
       "           51 à 55 ans                                       0.46 [0.21-1.00]  \n",
       "           56 à 60 ans                                       0.48 [0.21-1.08]  \n",
       "           61 à 65 ans                                       0.14 [0.04-0.54]  \n",
       "           66 ans et plus                                    0.24 [0.05-1.20]  \n",
       "           moins de 25 ans                                   1.01 [0.36-2.81]  \n",
       "Discipline Chimie, Matériaux                                                   \n",
       "           Lettres et Arts                                   1.14 [0.27-4.88]  \n",
       "           Mathématiques, Informatiques                     7.17 [2.41-21.34]  \n",
       "           Médecine                                          1.73 [0.45-6.60]  \n",
       "           Physique, Sciences de la terre et de l'Univers  12.39 [4.09-37.55]  \n",
       "           Science de l'ingénieur                           7.70 [2.52-23.51]  \n",
       "           Sciences du vivant                                1.66 [0.51-5.37]  \n",
       "           Sciences humaines                                 0.79 [0.25-2.51]  \n",
       "           Sciences sociales                                 0.71 [0.20-2.47]  \n",
       "Genre      je ne souhaite pas répondre                                         \n",
       "           un homme                                          1.01 [0.37-2.71]  \n",
       "           une femme                                         1.28 [0.48-3.43]  "
      ]
     },
     "execution_count": 25,
     "metadata": {},
     "output_type": "execute_result"
    }
   ],
   "source": [
    "# Création d'une variable indicatrice 0/1\n",
    "data[\"outils_Python_B\"] = data[\"outils_Python\"].replace({True:1,False:0}).fillna(0)\n",
    "\n",
    "# Mettre en forme les données pour éviter certains formats qui font des bugs\n",
    "data[\"annee\"] = data[\"annee_de_naissance-recod10niv\"]\n",
    "\n",
    "# Définition des variables indépendantes\n",
    "var_ind = {\"sexe\":\"Genre\",\"disciplines_9niv\":\"Discipline\",\"annee\":\"Age\"}\n",
    "\n",
    "# Calculer le modèle\n",
    "pyshs.regression_logistique(data,\"outils_Python_B\",var_ind)"
   ]
  },
  {
   "cell_type": "markdown",
   "id": "4f2547ae",
   "metadata": {
    "slideshow": {
     "slide_type": "slide"
    }
   },
   "source": [
    "\n",
    "####  Réaliser une analyse en composantes principales (ACM)"
   ]
  },
  {
   "cell_type": "markdown",
   "id": "93332315",
   "metadata": {},
   "source": [
    "Création du tableau des données"
   ]
  },
  {
   "cell_type": "code",
   "execution_count": 26,
   "id": "d9ac0685",
   "metadata": {},
   "outputs": [
    {
     "data": {
      "text/html": [
       "<div>\n",
       "<style scoped>\n",
       "    .dataframe tbody tr th:only-of-type {\n",
       "        vertical-align: middle;\n",
       "    }\n",
       "\n",
       "    .dataframe tbody tr th {\n",
       "        vertical-align: top;\n",
       "    }\n",
       "\n",
       "    .dataframe thead th {\n",
       "        text-align: right;\n",
       "    }\n",
       "</style>\n",
       "<table border=\"1\" class=\"dataframe\">\n",
       "  <thead>\n",
       "    <tr style=\"text-align: right;\">\n",
       "      <th></th>\n",
       "      <th>outils_R</th>\n",
       "      <th>outils_Excel</th>\n",
       "      <th>outils_Word</th>\n",
       "      <th>outils_Matlab</th>\n",
       "      <th>outils_Python</th>\n",
       "    </tr>\n",
       "  </thead>\n",
       "  <tbody>\n",
       "    <tr>\n",
       "      <th>0</th>\n",
       "      <td>Non</td>\n",
       "      <td>Non</td>\n",
       "      <td>Non</td>\n",
       "      <td>Non</td>\n",
       "      <td>Non</td>\n",
       "    </tr>\n",
       "    <tr>\n",
       "      <th>1</th>\n",
       "      <td>Non</td>\n",
       "      <td>Oui</td>\n",
       "      <td>Oui</td>\n",
       "      <td>Non</td>\n",
       "      <td>Non</td>\n",
       "    </tr>\n",
       "    <tr>\n",
       "      <th>2</th>\n",
       "      <td>Non</td>\n",
       "      <td>Non</td>\n",
       "      <td>Non</td>\n",
       "      <td>Non</td>\n",
       "      <td>Non</td>\n",
       "    </tr>\n",
       "    <tr>\n",
       "      <th>3</th>\n",
       "      <td>Non</td>\n",
       "      <td>Oui</td>\n",
       "      <td>Non</td>\n",
       "      <td>Non</td>\n",
       "      <td>Non</td>\n",
       "    </tr>\n",
       "    <tr>\n",
       "      <th>4</th>\n",
       "      <td>Oui</td>\n",
       "      <td>Oui</td>\n",
       "      <td>Non</td>\n",
       "      <td>Non</td>\n",
       "      <td>Non</td>\n",
       "    </tr>\n",
       "    <tr>\n",
       "      <th>...</th>\n",
       "      <td>...</td>\n",
       "      <td>...</td>\n",
       "      <td>...</td>\n",
       "      <td>...</td>\n",
       "      <td>...</td>\n",
       "    </tr>\n",
       "    <tr>\n",
       "      <th>1084</th>\n",
       "      <td>Non</td>\n",
       "      <td>Oui</td>\n",
       "      <td>Non</td>\n",
       "      <td>Non</td>\n",
       "      <td>Non</td>\n",
       "    </tr>\n",
       "    <tr>\n",
       "      <th>1085</th>\n",
       "      <td>Non</td>\n",
       "      <td>Non</td>\n",
       "      <td>Non</td>\n",
       "      <td>Non</td>\n",
       "      <td>Non</td>\n",
       "    </tr>\n",
       "    <tr>\n",
       "      <th>1086</th>\n",
       "      <td>Non</td>\n",
       "      <td>Non</td>\n",
       "      <td>Non</td>\n",
       "      <td>Non</td>\n",
       "      <td>Non</td>\n",
       "    </tr>\n",
       "    <tr>\n",
       "      <th>1087</th>\n",
       "      <td>Non</td>\n",
       "      <td>Non</td>\n",
       "      <td>Non</td>\n",
       "      <td>Non</td>\n",
       "      <td>Non</td>\n",
       "    </tr>\n",
       "    <tr>\n",
       "      <th>1088</th>\n",
       "      <td>Oui</td>\n",
       "      <td>Oui</td>\n",
       "      <td>Non</td>\n",
       "      <td>Non</td>\n",
       "      <td>Non</td>\n",
       "    </tr>\n",
       "  </tbody>\n",
       "</table>\n",
       "<p>1089 rows × 5 columns</p>\n",
       "</div>"
      ],
      "text/plain": [
       "     outils_R outils_Excel outils_Word outils_Matlab outils_Python\n",
       "0         Non          Non         Non           Non           Non\n",
       "1         Non          Oui         Oui           Non           Non\n",
       "2         Non          Non         Non           Non           Non\n",
       "3         Non          Oui         Non           Non           Non\n",
       "4         Oui          Oui         Non           Non           Non\n",
       "...       ...          ...         ...           ...           ...\n",
       "1084      Non          Oui         Non           Non           Non\n",
       "1085      Non          Non         Non           Non           Non\n",
       "1086      Non          Non         Non           Non           Non\n",
       "1087      Non          Non         Non           Non           Non\n",
       "1088      Oui          Oui         Non           Non           Non\n",
       "\n",
       "[1089 rows x 5 columns]"
      ]
     },
     "execution_count": 26,
     "metadata": {},
     "output_type": "execute_result"
    }
   ],
   "source": [
    "X = data[[\"outils_R\",\"outils_Excel\",\"outils_Word\",\"outils_Matlab\",\"outils_Python\"]]\n",
    "X = X.replace({True:\"Oui\",False:\"Non\"}).fillna(\"Non\")\n",
    "X"
   ]
  },
  {
   "cell_type": "markdown",
   "id": "98eddefc",
   "metadata": {
    "slideshow": {
     "slide_type": "slide"
    }
   },
   "source": [
    "Calcul de la MCA avec la bibliothèque Prince"
   ]
  },
  {
   "cell_type": "code",
   "execution_count": 27,
   "id": "f825d12a",
   "metadata": {},
   "outputs": [
    {
     "data": {
      "text/html": [
       "<div>\n",
       "<style scoped>\n",
       "    .dataframe tbody tr th:only-of-type {\n",
       "        vertical-align: middle;\n",
       "    }\n",
       "\n",
       "    .dataframe tbody tr th {\n",
       "        vertical-align: top;\n",
       "    }\n",
       "\n",
       "    .dataframe thead th {\n",
       "        text-align: right;\n",
       "    }\n",
       "</style>\n",
       "<table border=\"1\" class=\"dataframe\">\n",
       "  <thead>\n",
       "    <tr style=\"text-align: right;\">\n",
       "      <th></th>\n",
       "      <th>0</th>\n",
       "      <th>1</th>\n",
       "    </tr>\n",
       "  </thead>\n",
       "  <tbody>\n",
       "    <tr>\n",
       "      <th>0</th>\n",
       "      <td>0.021333</td>\n",
       "      <td>-0.359769</td>\n",
       "    </tr>\n",
       "    <tr>\n",
       "      <th>1</th>\n",
       "      <td>-1.089833</td>\n",
       "      <td>-0.026748</td>\n",
       "    </tr>\n",
       "    <tr>\n",
       "      <th>2</th>\n",
       "      <td>0.021333</td>\n",
       "      <td>-0.359769</td>\n",
       "    </tr>\n",
       "    <tr>\n",
       "      <th>3</th>\n",
       "      <td>-0.374549</td>\n",
       "      <td>0.194350</td>\n",
       "    </tr>\n",
       "    <tr>\n",
       "      <th>4</th>\n",
       "      <td>-0.214955</td>\n",
       "      <td>0.982248</td>\n",
       "    </tr>\n",
       "    <tr>\n",
       "      <th>...</th>\n",
       "      <td>...</td>\n",
       "      <td>...</td>\n",
       "    </tr>\n",
       "    <tr>\n",
       "      <th>1084</th>\n",
       "      <td>-0.374549</td>\n",
       "      <td>0.194350</td>\n",
       "    </tr>\n",
       "    <tr>\n",
       "      <th>1085</th>\n",
       "      <td>0.021333</td>\n",
       "      <td>-0.359769</td>\n",
       "    </tr>\n",
       "    <tr>\n",
       "      <th>1086</th>\n",
       "      <td>0.021333</td>\n",
       "      <td>-0.359769</td>\n",
       "    </tr>\n",
       "    <tr>\n",
       "      <th>1087</th>\n",
       "      <td>0.021333</td>\n",
       "      <td>-0.359769</td>\n",
       "    </tr>\n",
       "    <tr>\n",
       "      <th>1088</th>\n",
       "      <td>-0.214955</td>\n",
       "      <td>0.982248</td>\n",
       "    </tr>\n",
       "  </tbody>\n",
       "</table>\n",
       "<p>1089 rows × 2 columns</p>\n",
       "</div>"
      ],
      "text/plain": [
       "             0         1\n",
       "0     0.021333 -0.359769\n",
       "1    -1.089833 -0.026748\n",
       "2     0.021333 -0.359769\n",
       "3    -0.374549  0.194350\n",
       "4    -0.214955  0.982248\n",
       "...        ...       ...\n",
       "1084 -0.374549  0.194350\n",
       "1085  0.021333 -0.359769\n",
       "1086  0.021333 -0.359769\n",
       "1087  0.021333 -0.359769\n",
       "1088 -0.214955  0.982248\n",
       "\n",
       "[1089 rows x 2 columns]"
      ]
     },
     "execution_count": 27,
     "metadata": {},
     "output_type": "execute_result"
    }
   ],
   "source": [
    "# pip install prince\n",
    "import prince\n",
    "mca = prince.MCA(n_components=2)\n",
    "mca = mca.fit(X)\n",
    "mca.row_coordinates(X)"
   ]
  },
  {
   "cell_type": "markdown",
   "id": "bb4f6b96",
   "metadata": {
    "slideshow": {
     "slide_type": "slide"
    }
   },
   "source": [
    "Un peu de travail à la main : calcul des coordonnées de variables supplémentaires"
   ]
  },
  {
   "cell_type": "code",
   "execution_count": 28,
   "id": "bff96008",
   "metadata": {},
   "outputs": [
    {
     "data": {
      "text/html": [
       "<div>\n",
       "<style scoped>\n",
       "    .dataframe tbody tr th:only-of-type {\n",
       "        vertical-align: middle;\n",
       "    }\n",
       "\n",
       "    .dataframe tbody tr th {\n",
       "        vertical-align: top;\n",
       "    }\n",
       "\n",
       "    .dataframe thead th {\n",
       "        text-align: right;\n",
       "    }\n",
       "</style>\n",
       "<table border=\"1\" class=\"dataframe\">\n",
       "  <thead>\n",
       "    <tr style=\"text-align: right;\">\n",
       "      <th></th>\n",
       "      <th>X</th>\n",
       "      <th>Y</th>\n",
       "    </tr>\n",
       "    <tr>\n",
       "      <th>dis</th>\n",
       "      <th></th>\n",
       "      <th></th>\n",
       "    </tr>\n",
       "  </thead>\n",
       "  <tbody>\n",
       "    <tr>\n",
       "      <th>Chimie, Matériaux</th>\n",
       "      <td>-0.169998</td>\n",
       "      <td>0.010784</td>\n",
       "    </tr>\n",
       "    <tr>\n",
       "      <th>Lettres et Arts</th>\n",
       "      <td>-0.329804</td>\n",
       "      <td>-0.324969</td>\n",
       "    </tr>\n",
       "    <tr>\n",
       "      <th>Mathématiques, Informatiques</th>\n",
       "      <td>0.305608</td>\n",
       "      <td>-0.111678</td>\n",
       "    </tr>\n",
       "    <tr>\n",
       "      <th>Médecine</th>\n",
       "      <td>0.019826</td>\n",
       "      <td>0.153543</td>\n",
       "    </tr>\n",
       "    <tr>\n",
       "      <th>Physique, Sciences de la terre et de l'Univers</th>\n",
       "      <td>0.408754</td>\n",
       "      <td>-0.069380</td>\n",
       "    </tr>\n",
       "    <tr>\n",
       "      <th>Science de l'ingénieur</th>\n",
       "      <td>0.343437</td>\n",
       "      <td>0.030429</td>\n",
       "    </tr>\n",
       "    <tr>\n",
       "      <th>Sciences du vivant</th>\n",
       "      <td>-0.036131</td>\n",
       "      <td>0.270815</td>\n",
       "    </tr>\n",
       "    <tr>\n",
       "      <th>Sciences humaines</th>\n",
       "      <td>-0.191850</td>\n",
       "      <td>-0.021337</td>\n",
       "    </tr>\n",
       "    <tr>\n",
       "      <th>Sciences sociales</th>\n",
       "      <td>-0.176285</td>\n",
       "      <td>-0.009664</td>\n",
       "    </tr>\n",
       "  </tbody>\n",
       "</table>\n",
       "</div>"
      ],
      "text/plain": [
       "                                                       X         Y\n",
       "dis                                                               \n",
       "Chimie, Matériaux                              -0.169998  0.010784\n",
       "Lettres et Arts                                -0.329804 -0.324969\n",
       "Mathématiques, Informatiques                    0.305608 -0.111678\n",
       "Médecine                                        0.019826  0.153543\n",
       "Physique, Sciences de la terre et de l'Univers  0.408754 -0.069380\n",
       "Science de l'ingénieur                          0.343437  0.030429\n",
       "Sciences du vivant                             -0.036131  0.270815\n",
       "Sciences humaines                              -0.191850 -0.021337\n",
       "Sciences sociales                              -0.176285 -0.009664"
      ]
     },
     "execution_count": 28,
     "metadata": {},
     "output_type": "execute_result"
    }
   ],
   "source": [
    "t = mca.row_coordinates(X)\n",
    "t[\"dis\"] = data[\"disciplines_9niv\"]\n",
    "disciplines = pd.concat({\"X\":t.groupby(\"dis\")[0].mean(),\"Y\":t.groupby(\"dis\")[1].mean()},axis=1)\n",
    "disciplines"
   ]
  },
  {
   "cell_type": "markdown",
   "id": "ef1fc132",
   "metadata": {},
   "source": [
    "Représentation"
   ]
  },
  {
   "cell_type": "code",
   "execution_count": 29,
   "id": "37f7aa3b",
   "metadata": {
    "slideshow": {
     "slide_type": "slide"
    }
   },
   "outputs": [
    {
     "data": {
      "image/png": "[encoded data removed]",
      "text/plain": [
       "<Figure size 576x576 with 1 Axes>"
      ]
     },
     "metadata": {
      "needs_background": "light"
     },
     "output_type": "display_data"
    }
   ],
   "source": [
    "ax = mca.plot_coordinates(X=X,figsize=(8, 8),show_row_points=True,\n",
    "                             row_points_size=10,show_column_points=True,\n",
    "                             column_points_size=30,show_column_labels=True,legend_n_cols=1)\n",
    "\n",
    "# Ajout d'éléments sur les variables indépendantes\n",
    "for i,j in disciplines.iterrows():\n",
    "    ax.text(j[\"X\"],j[\"Y\"],i, fontsize=7, bbox={\"facecolor\":'red', \"alpha\":0.5})\n",
    "    \n",
    "plt.title(\"ACM usage des outils R/Python/Excel/Matlab/Word dans le workflow\")\n",
    "plt.show()"
   ]
  },
  {
   "cell_type": "markdown",
   "id": "e63a96c0",
   "metadata": {
    "slideshow": {
     "slide_type": "slide"
    }
   },
   "source": [
    "## Forces et faiblesses de Python\n",
    "\n",
    "### Forces\n",
    "\n",
    "- Formaliser la démarche\n",
    "- Support Jupyter ++ pour le travail collaboratif\n",
    "- Code réexcutable et donc travail collaboratif\n",
    "- Des outils très puissants qui permettent la souplesse\n",
    "- Sortir de la dépendance d'un logiciel (Sphinx initialement)\n",
    "\n",
    "### Faiblesses\n",
    "\n",
    "- Manque d'exemple -> beaucoup de petites recherches sur internet pour le faire\n",
    "- Cout d'entrée pour son propre code : découvrir les bibliothèques, etc.\n",
    "- Manque de bibliothèques SHS\n",
    "- Un travail \"caché\" : chercher les bonnes manières de faire, etc. difficile à montrer + beaucoup de temps à passer à retrouver les bonnes options (je connais pas tout par coeur...)\n",
    "- Une ergonomie qui peut être moindre qu'un logiciel dédié\n",
    "\n",
    "### Python ou R ?\n",
    "\n",
    "- Deux solutions possibles (toujours le même débat)"
   ]
  },
  {
   "cell_type": "markdown",
   "id": "13d5655e",
   "metadata": {
    "slideshow": {
     "slide_type": "slide"
    }
   },
   "source": [
    "## Aller plus loin\n",
    "\n",
    "- Générer une application avec `Streamlite` : `streamlit run streamlit-test.py`"
   ]
  }
 ],
 "metadata": {
  "celltoolbar": "Format de la Cellule Texte Brut",
  "kernelspec": {
   "display_name": "Python 3 (ipykernel)",
   "language": "python",
   "name": "python3"
  },
  "language_info": {
   "codemirror_mode": {
    "name": "ipython",
    "version": 3
   },
   "file_extension": ".py",
   "mimetype": "text/x-python",
   "name": "python",
   "nbconvert_exporter": "python",
   "pygments_lexer": "ipython3",
   "version": "3.8.12"
  }
 },
 "nbformat": 4,
 "nbformat_minor": 5
}
